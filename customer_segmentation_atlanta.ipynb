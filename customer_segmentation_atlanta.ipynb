{
 "cells": [
  {
   "cell_type": "markdown",
   "metadata": {},
   "source": [
    "# Customer Segmentation Tool \n",
    "POC - PRO Xtra Customers in Atlanta Market"
   ]
  },
  {
   "cell_type": "markdown",
   "metadata": {},
   "source": [
    "## Step 0: Define User Dataset\n",
    "This dataset will be created under the default project and used as work directory for the analysis. "
   ]
  },
  {
   "cell_type": "code",
   "execution_count": 1,
   "metadata": {
    "collapsed": false
   },
   "outputs": [
    {
     "data": {
      "text/html": [
       "\n",
       "          <script src=\"/static/components/requirejs/require.js\"></script>\n",
       "          <script>\n",
       "            requirejs.config({\n",
       "              paths: {\n",
       "                base: '/static/base',\n",
       "              },\n",
       "            });\n",
       "          </script>\n",
       "          "
      ],
      "text/plain": [
       "<IPython.core.display.HTML object>"
      ]
     },
     "metadata": {},
     "output_type": "display_data"
    }
   ],
   "source": [
    "import google.datalab.bigquery as bq\n",
    "\n",
    "# a dataset named 'customer_segmentation' will be created under the default project\n",
    "output_dataset = 'USER_SXM4690'\n",
    "bq_output_dataset = bq.Dataset(output_dataset)\n",
    "\n",
    "# create the dataset if it doesn't exist\n",
    "if not bq_output_dataset.exists():\n",
    "  bq_output_dataset.create()"
   ]
  },
  {
   "cell_type": "markdown",
   "metadata": {},
   "source": [
    "## Step 1: Create Customer List and Pull Seed Data\n",
    "Step 1.1 populates a customer list from query cs_id and load the list to table cs_id in the selected user dataset. User can also skip Step 1.1, manually create the table and load a list of cs_id to the table.\n",
    "\n",
    "Step 1.2 will pull seed data for the list of customers in the table and load the seed data to table cs_seed."
   ]
  },
  {
   "cell_type": "markdown",
   "metadata": {},
   "source": [
    "### 1.1 Select Customer List (with Query)\n",
    "In the sample query, we picked customers based in Atlanta."
   ]
  },
  {
   "cell_type": "code",
   "execution_count": 2,
   "metadata": {
    "codeCollapsed": false,
    "collapsed": false,
    "hiddenCell": false
   },
   "outputs": [
    {
     "data": {
      "text/html": [
       "\n",
       "          <script src=\"/static/components/requirejs/require.js\"></script>\n",
       "          <script>\n",
       "            requirejs.config({\n",
       "              paths: {\n",
       "                base: '/static/base',\n",
       "              },\n",
       "            });\n",
       "          </script>\n",
       "          "
      ],
      "text/plain": [
       "<IPython.core.display.HTML object>"
      ]
     },
     "metadata": {},
     "output_type": "display_data"
    }
   ],
   "source": [
    "%%bq query -n cs_id\n",
    "select a.cust_id\n",
    "from\n",
    "(\n",
    "select\n",
    "\ta.cust_id,\n",
    "\td.mkt_nbr as top_mkt_nbr,\n",
    "\td.mkt_nm as top_mkt_nm,\n",
    "\trank() over(partition by a.cust_id order by sum(coalesce(b.net_sls_amt,0)) desc) as rank\n",
    "  from\n",
    "\t`pr-customer-thd.EDW_REWARDS.PRO_CUST_SLS_DTL` a,\n",
    "\tunnest(hdr_dtl) b,\n",
    "\tunnest(item_dtl) c,\n",
    "\tunnest(loc_dtl) d,\n",
    "  `pr-finance-thd.FINANCE_DATA.CAL_PRD_HIER` e\n",
    "\t  where 1 = 1\n",
    "          and a.sltrn_dt = e.cal_dt\n",
    "          and a.cust_id <> 0\n",
    "          and a.cust_id is not null\n",
    "          and c.dept_nbr between 21 and 59\n",
    "          and c.item_class_cd is not null\n",
    "          and e.fscl_prd_key_val between\n",
    "            (select fscl_prd_key_val from `pr-finance-thd.FINANCE_DATA.CAL_PRD_HIER` where cal_dt =\n",
    "              (select fscl_prd_bgn_dt from `pr-finance-thd.FINANCE_DATA.CAL_PRD_HIER` where cal_dt =\n",
    "                (select (ly_fscl_wk_end_dt) from `pr-finance-thd.FINANCE_DATA.CAL_PRD_HIER` where cal_dt = current_date)))\n",
    "            and\n",
    "            (select fscl_prd_key_val from `pr-finance-thd.FINANCE_DATA.CAL_PRD_HIER` where cal_dt =\n",
    "              (select prev_fprd_end_dt from `pr-finance-thd.FINANCE_DATA.CAL_PRD_HIER` where cal_dt = current_date))\n",
    "\n",
    "\n",
    "  group by 1,2,3\n",
    ") a\n",
    "where 1 = 1\n",
    "and a.rank = 1\n",
    "and a.top_mkt_nbr = 1"
   ]
  },
  {
   "cell_type": "markdown",
   "metadata": {},
   "source": [
    "Execute the previous query and save customer list to table cs_id"
   ]
  },
  {
   "cell_type": "code",
   "execution_count": 8,
   "metadata": {
    "collapsed": false
   },
   "outputs": [
    {
     "data": {
      "text/html": [
       "\n",
       "          <script src=\"/static/components/requirejs/require.js\"></script>\n",
       "          <script>\n",
       "            requirejs.config({\n",
       "              paths: {\n",
       "                base: '/static/base',\n",
       "              },\n",
       "            });\n",
       "          </script>\n",
       "          "
      ],
      "text/plain": [
       "<IPython.core.display.HTML object>"
      ]
     },
     "metadata": {},
     "output_type": "display_data"
    }
   ],
   "source": [
    "cs_id_table = output_dataset + '.cs_id'"
   ]
  },
  {
   "cell_type": "code",
   "execution_count": 9,
   "metadata": {
    "codeCollapsed": false,
    "collapsed": false,
    "hiddenCell": false
   },
   "outputs": [
    {
     "data": {
      "text/html": [
       "\n",
       "          <script src=\"/static/components/requirejs/require.js\"></script>\n",
       "          <script>\n",
       "            requirejs.config({\n",
       "              paths: {\n",
       "                base: '/static/base',\n",
       "              },\n",
       "            });\n",
       "          </script>\n",
       "          "
      ],
      "text/plain": [
       "<IPython.core.display.HTML object>"
      ]
     },
     "metadata": {},
     "output_type": "display_data"
    },
    {
     "data": {
      "text/html": [
       "\n",
       "    <div class=\"bqtv\" id=\"2_151395756227\"><table><tr><th>cust_id</th></tr><tr><td>3299407</td></tr><tr><td>4056356</td></tr><tr><td>2823234</td></tr><tr><td>2853142</td></tr><tr><td>1093973</td></tr><tr><td>1208354</td></tr><tr><td>735760</td></tr><tr><td>5216257</td></tr><tr><td>2844553</td></tr><tr><td>4401922</td></tr><tr><td>1663345</td></tr><tr><td>5179418</td></tr><tr><td>3110857</td></tr><tr><td>3736888</td></tr><tr><td>42451238</td></tr><tr><td>1715557</td></tr><tr><td>4023289</td></tr><tr><td>4267312</td></tr><tr><td>167174</td></tr><tr><td>1808666</td></tr><tr><td>5777195</td></tr><tr><td>6228828</td></tr><tr><td>4664249</td></tr><tr><td>743757</td></tr><tr><td>5733146</td></tr></table></div>\n",
       "    <br />(rows: 60353, time: 15.2s,    76GB processed, job: job_xiuawgUDkY3VzG7e4M20zfF3kGI5)<br />\n",
       "    <script>\n",
       "\n",
       "      require.config({\n",
       "        paths: {\n",
       "          d3: '//cdnjs.cloudflare.com/ajax/libs/d3/3.4.13/d3',\n",
       "          plotly: 'https://cdn.plot.ly/plotly-1.5.1.min.js?noext',\n",
       "          jquery: '//ajax.googleapis.com/ajax/libs/jquery/2.0.0/jquery.min'\n",
       "        },\n",
       "        map: {\n",
       "          '*': {\n",
       "            datalab: 'nbextensions/gcpdatalab'\n",
       "          }\n",
       "        },\n",
       "        shim: {\n",
       "          plotly: {\n",
       "            deps: ['d3', 'jquery'],\n",
       "            exports: 'plotly'\n",
       "          }\n",
       "        }\n",
       "      });\n",
       "\n",
       "      require(['datalab/charting', 'datalab/element!2_151395756227', 'base/js/events',\n",
       "          'datalab/style!/nbextensions/gcpdatalab/charting.css'],\n",
       "        function(charts, dom, events) {\n",
       "          charts.render('gcharts', dom, events, 'paged_table', [], {\"rows\": [{\"c\": [{\"v\": 3299407}]}, {\"c\": [{\"v\": 4056356}]}, {\"c\": [{\"v\": 2823234}]}, {\"c\": [{\"v\": 2853142}]}, {\"c\": [{\"v\": 1093973}]}, {\"c\": [{\"v\": 1208354}]}, {\"c\": [{\"v\": 735760}]}, {\"c\": [{\"v\": 5216257}]}, {\"c\": [{\"v\": 2844553}]}, {\"c\": [{\"v\": 4401922}]}, {\"c\": [{\"v\": 1663345}]}, {\"c\": [{\"v\": 5179418}]}, {\"c\": [{\"v\": 3110857}]}, {\"c\": [{\"v\": 3736888}]}, {\"c\": [{\"v\": 42451238}]}, {\"c\": [{\"v\": 1715557}]}, {\"c\": [{\"v\": 4023289}]}, {\"c\": [{\"v\": 4267312}]}, {\"c\": [{\"v\": 167174}]}, {\"c\": [{\"v\": 1808666}]}, {\"c\": [{\"v\": 5777195}]}, {\"c\": [{\"v\": 6228828}]}, {\"c\": [{\"v\": 4664249}]}, {\"c\": [{\"v\": 743757}]}, {\"c\": [{\"v\": 5733146}]}], \"cols\": [{\"type\": \"number\", \"id\": \"cust_id\", \"label\": \"cust_id\"}]},\n",
       "            {\n",
       "              pageSize: 25,\n",
       "              cssClassNames:  {\n",
       "                tableRow: 'gchart-table-row',\n",
       "                headerRow: 'gchart-table-headerrow',\n",
       "                oddTableRow: 'gchart-table-oddrow',\n",
       "                selectedTableRow: 'gchart-table-selectedrow',\n",
       "                hoverTableRow: 'gchart-table-hoverrow',\n",
       "                tableCell: 'gchart-table-cell',\n",
       "                headerCell: 'gchart-table-headercell',\n",
       "                rowNumberCell: 'gchart-table-rownumcell'\n",
       "              }\n",
       "            },\n",
       "            {source_index: 0, fields: 'cust_id'},\n",
       "            0,\n",
       "            60353);\n",
       "        }\n",
       "      );\n",
       "    </script>\n",
       "  "
      ],
      "text/plain": [
       "QueryResultsTable job_xiuawgUDkY3VzG7e4M20zfF3kGI5"
      ]
     },
     "execution_count": 9,
     "metadata": {},
     "output_type": "execute_result"
    }
   ],
   "source": [
    "%%bq execute -q cs_id -t $cs_id_table -m overwrite"
   ]
  },
  {
   "cell_type": "markdown",
   "metadata": {},
   "source": [
    "### 1.2 Pull Seed Data\n",
    "Seed variables include R12 sales, R12 transactions and Department / Class penetration"
   ]
  },
  {
   "cell_type": "code",
   "execution_count": 10,
   "metadata": {
    "codeCollapsed": false,
    "collapsed": false,
    "hiddenCell": false
   },
   "outputs": [
    {
     "data": {
      "text/html": [
       "\n",
       "          <script src=\"/static/components/requirejs/require.js\"></script>\n",
       "          <script>\n",
       "            requirejs.config({\n",
       "              paths: {\n",
       "                base: '/static/base',\n",
       "              },\n",
       "            });\n",
       "          </script>\n",
       "          "
      ],
      "text/plain": [
       "<IPython.core.display.HTML object>"
      ]
     },
     "metadata": {},
     "output_type": "display_data"
    }
   ],
   "source": [
    "%%bq query -n cs_seed\n",
    "select\n",
    "    a.cust_id,\n",
    "    a.s_trd_typ_desc,\n",
    "    c.dept_nbr,\n",
    "    c.dept_nm,\n",
    "    c.item_class_cd,\n",
    "    c.item_class_desc,\n",
    "    c.categ_r12_sls_amt,\n",
    "    d.tot_r12_txn_cnt,\n",
    "    d.tot_r12_sls_amt\n",
    "  from\n",
    "(\n",
    "    (\n",
    "    select\n",
    "        a.cust_id,\n",
    "        a.s_trd_typ_desc,\n",
    "        'PAR' as ass_chan\n",
    "      from\n",
    "        `pr-customer-thd.EDW_REWARDS.PRO_CUST_DTL` a\n",
    "          where 1 = 1\n",
    "          and a.trtry_typ_cd = 1\n",
    "    ) \n",
    "    union all\n",
    "    (\n",
    "    select\n",
    "        a.cust_id,\n",
    "        a.s_trd_typ_desc,\n",
    "        'PASA' as ass_chan\n",
    "      from\n",
    "        `pr-customer-thd.EDW_REWARDS.PRO_CUST_DTL` a,\n",
    "        unnest(pasa_dtl) b\n",
    "          where 1 = 1\n",
    "          and b.assg_pasa_eff_bgn_ts is not null \n",
    "          and b.assg_pasa_eff_end_ts is null \n",
    "          and (\n",
    "            a.trtry_typ_cd in (2,3)\n",
    "            or\n",
    "            a.trtry_typ_cd is null\n",
    "            )\n",
    "    ) \n",
    "    \n",
    ") a\n",
    "left join\n",
    "(\n",
    "    select\n",
    "        a.cust_id,\n",
    "        c.dept_nbr,\n",
    "        c.dept_nm,\n",
    "        c.item_class_cd,\n",
    "        c.item_class_desc,\n",
    "        sum(coalesce(b.net_sls_amt,0)) as categ_r12_sls_amt\n",
    "      from\n",
    "        `pr-customer-thd.EDW_REWARDS.PRO_CUST_SLS_DTL` a,\n",
    "        unnest(hdr_dtl) b,\n",
    "        unnest(item_dtl) c,\n",
    "        `pr-finance-thd.FINANCE_DATA.CAL_PRD_HIER` d\n",
    "          where 1 = 1\n",
    "          and a.sltrn_dt = d.cal_dt\n",
    "          and a.cust_id <> 0\n",
    "          and a.cust_id is not null\n",
    "          and c.dept_nbr  between 21 and 59\n",
    "          and c.item_class_cd is not null\n",
    "          and d.cal_dt between\n",
    "            (select fscl_prd_bgn_dt from `pr-finance-thd.FINANCE_DATA.CAL_PRD_HIER` where cal_dt =\n",
    "              (select (ly_fscl_wk_end_dt) from `pr-finance-thd.FINANCE_DATA.CAL_PRD_HIER` where cal_dt = current_date))\n",
    "            and\n",
    "            (select prev_fprd_end_dt from `pr-finance-thd.FINANCE_DATA.CAL_PRD_HIER` where cal_dt = current_date)\n",
    "      group by 1,2,3,4,5\n",
    ") c\n",
    "on a.cust_id = c.cust_id\n",
    "left join\n",
    "(\n",
    "    select\n",
    "        a.cust_id,\n",
    "        count(distinct concat(cast(a.loc_nbr as string),' ',cast(a.sltrn_dt as string),' ',cast(a.pos_rgstr_id as string),' ',cast(a.sltrn_id as string))) as tot_r12_txn_cnt,\n",
    "        sum(coalesce(b.net_sls_amt,0)) as tot_r12_sls_amt\n",
    "      from\n",
    "        `pr-customer-thd.EDW_REWARDS.PRO_CUST_SLS_DTL` a,\n",
    "        unnest(hdr_dtl) b,\n",
    "        unnest(item_dtl) c,\n",
    "        `pr-finance-thd.FINANCE_DATA.CAL_PRD_HIER` d\n",
    "          where 1 = 1\n",
    "          and a.sltrn_dt = d.cal_dt\n",
    "          and a.cust_id <> 0\n",
    "          and a.cust_id is not null\n",
    "          and c.dept_nbr between 21 and 59\n",
    "          and c.item_class_cd is not null\n",
    "          and d.cal_dt between\n",
    "            (select fscl_prd_bgn_dt from `pr-finance-thd.FINANCE_DATA.CAL_PRD_HIER` where cal_dt =\n",
    "              (select (ly_fscl_wk_end_dt) from `pr-finance-thd.FINANCE_DATA.CAL_PRD_HIER` where cal_dt = current_date))\n",
    "            and\n",
    "            (select prev_fprd_end_dt from `pr-finance-thd.FINANCE_DATA.CAL_PRD_HIER` where cal_dt = current_date)\n",
    "      group by 1\n",
    ") d\n",
    "on a.cust_id = d.cust_id\n",
    "where 1 = 1\n",
    "and a.cust_id in (select cust_id from USER_SXM4690.cs_id)"
   ]
  },
  {
   "cell_type": "markdown",
   "metadata": {},
   "source": [
    "## Step 2: Clustering"
   ]
  },
  {
   "cell_type": "markdown",
   "metadata": {},
   "source": [
    "### 2.0 User Configurations"
   ]
  },
  {
   "cell_type": "code",
   "execution_count": 11,
   "metadata": {
    "collapsed": false
   },
   "outputs": [
    {
     "data": {
      "text/html": [
       "\n",
       "          <script src=\"/static/components/requirejs/require.js\"></script>\n",
       "          <script>\n",
       "            requirejs.config({\n",
       "              paths: {\n",
       "                base: '/static/base',\n",
       "              },\n",
       "            });\n",
       "          </script>\n",
       "          "
      ],
      "text/plain": [
       "<IPython.core.display.HTML object>"
      ]
     },
     "metadata": {},
     "output_type": "display_data"
    }
   ],
   "source": [
    "# user configurations\n",
    "min_clusters = 2 # a minimum of 2 clusters\n",
    "max_clusters = 20 # a maximum of 20 clusters\n",
    "outlier_threshold = 5 # clusters with less than given number of customers will be regarded as outliers"
   ]
  },
  {
   "cell_type": "markdown",
   "metadata": {},
   "source": [
    "### 2.1 Read Input data"
   ]
  },
  {
   "cell_type": "code",
   "execution_count": 14,
   "metadata": {
    "collapsed": false
   },
   "outputs": [
    {
     "data": {
      "text/html": [
       "\n",
       "          <script src=\"/static/components/requirejs/require.js\"></script>\n",
       "          <script>\n",
       "            requirejs.config({\n",
       "              paths: {\n",
       "                base: '/static/base',\n",
       "              },\n",
       "            });\n",
       "          </script>\n",
       "          "
      ],
      "text/plain": [
       "<IPython.core.display.HTML object>"
      ]
     },
     "metadata": {},
     "output_type": "display_data"
    }
   ],
   "source": [
    "import pandas as pd\n",
    "import numpy as np\n",
    "import matplotlib.pyplot as plt\n",
    "\n",
    "# Pull seed data into a pandas dataframe\n",
    "import google.datalab.bigquery as bq\n",
    "cs_seed_df = cs_seed.execute(output_options=bq.QueryOutput.dataframe()).result()\n",
    "\n",
    "# Pick customer level variable\n",
    "cs_seed_var = cs_seed_df.loc[:, ['cust_id', 's_trd_typ_desc', 'tot_r12_txn_cnt', 'tot_r12_sls_amt']].drop_duplicates()\n",
    "cs_seed_var = cs_seed_var.round({'tot_r12_txn_cnt': 0,'tot_r12_sls_amt': 0})\n",
    "\n",
    "# Add dept name\n",
    "cs_seed_dept = cs_seed_df.assign(dept = 'D' + cs_seed_df.dept_nbr.astype(str) + '_' + cs_seed_df.dept_nm,\n",
    "                               dept_r12_sls_pcnt=cs_seed_df.categ_r12_sls_amt / cs_seed_df.tot_r12_sls_amt)\n",
    "\n",
    "# Calculate department penetration\n",
    "cs_seed_dept = cs_seed_dept.groupby(['cust_id', 'dept']).agg({'dept_r12_sls_pcnt': 'sum'}).reset_index()\n",
    "cs_seed_dept = cs_seed_dept.round({'dept_r12_sls_pcnt': 3})\n",
    "\n",
    "# Reshape department penetration into wide format so each department is a separate column\n",
    "cs_seed_dept = cs_seed_dept.pivot(index='cust_id', columns='dept', values='dept_r12_sls_pcnt').reset_index()\n",
    "cs_seed_dept = cs_seed_dept.fillna(0)\n",
    "\n",
    "# Join customer level variables with dept penetration\n",
    "cs_seed_var = cs_seed_var.merge(cs_seed_dept, on='cust_id')"
   ]
  },
  {
   "cell_type": "markdown",
   "metadata": {},
   "source": [
    "### 2.2 Clustering"
   ]
  },
  {
   "cell_type": "markdown",
   "metadata": {},
   "source": [
    "#### 2.2.1 Data Normalization"
   ]
  },
  {
   "cell_type": "code",
   "execution_count": 15,
   "metadata": {
    "collapsed": false
   },
   "outputs": [
    {
     "data": {
      "text/html": [
       "\n",
       "          <script src=\"/static/components/requirejs/require.js\"></script>\n",
       "          <script>\n",
       "            requirejs.config({\n",
       "              paths: {\n",
       "                base: '/static/base',\n",
       "              },\n",
       "            });\n",
       "          </script>\n",
       "          "
      ],
      "text/plain": [
       "<IPython.core.display.HTML object>"
      ]
     },
     "metadata": {},
     "output_type": "display_data"
    }
   ],
   "source": [
    "from sklearn.preprocessing import StandardScaler\n",
    "from sklearn.cluster import KMeans\n",
    "from sklearn.metrics import silhouette_score\n",
    "\n",
    "# select seed variables and standardize\n",
    "input_df = cs_seed_var.iloc[:,2:14]\n",
    "input_df_scaled = StandardScaler().fit_transform(input_df)\n",
    "input_df_scaled = pd.DataFrame(input_df_scaled)"
   ]
  },
  {
   "cell_type": "markdown",
   "metadata": {},
   "source": [
    "#### 2.2.2 Sihouette Analysis\n",
    "Sihouette analysis is used to find optimal number of clusters. "
   ]
  },
  {
   "cell_type": "code",
   "execution_count": 16,
   "metadata": {
    "codeCollapsed": false,
    "collapsed": false,
    "hiddenCell": false
   },
   "outputs": [
    {
     "data": {
      "text/html": [
       "\n",
       "          <script src=\"/static/components/requirejs/require.js\"></script>\n",
       "          <script>\n",
       "            requirejs.config({\n",
       "              paths: {\n",
       "                base: '/static/base',\n",
       "              },\n",
       "            });\n",
       "          </script>\n",
       "          "
      ],
      "text/plain": [
       "<IPython.core.display.HTML object>"
      ]
     },
     "metadata": {},
     "output_type": "display_data"
    },
    {
     "data": {
      "image/png": "[encoded data removed]",
      "text/plain": [
       "<matplotlib.figure.Figure at 0x7f18c31893d0>"
      ]
     },
     "metadata": {},
     "output_type": "display_data"
    },
    {
     "name": "stdout",
     "output_type": "stream",
     "text": [
      "Silhouette analysis recommends 12 clusters.\n"
     ]
    }
   ],
   "source": [
    "# silhouette analysis\n",
    "range_n_clusters = range(min_clusters, max_clusters+1)\n",
    "\n",
    "def cal_cluster_silhouette(dataset, clusters):\n",
    "    clusterer = KMeans(n_clusters=clusters, random_state=10)\n",
    "    cluster_labels = clusterer.fit_predict(dataset)\n",
    "    silhouette_avg = silhouette_score(dataset, cluster_labels)\n",
    "    return (clusters, silhouette_avg)\n",
    "\n",
    "avg_silhouette = [] # create a list for number of clusters and average silhouette value\n",
    "\n",
    "for i in range_n_clusters:\n",
    "    avg_silhouette.append(cal_cluster_silhouette(input_df_scaled, i))\n",
    "\n",
    "silhouette_chart = pd.DataFrame(avg_silhouette)\n",
    "\n",
    "silhouette_chart.rename(columns=dict(zip(silhouette_chart.columns, ['number_of_clusters', 'silhouette_score'])), inplace=True)\n",
    "\n",
    "fig, ax = plt.subplots()\n",
    "\n",
    "ax.plot(silhouette_chart['number_of_clusters'], silhouette_chart['silhouette_score'], 'b-')\n",
    "ax.set_xlabel('Number of Clusters')\n",
    "ax.set_ylabel('Silhouette Score')\n",
    "\n",
    "plt.title('Silhouette Chart', fontsize=14)\n",
    "\n",
    "plt.gca().set_xlim(left=1)\n",
    "plt.xticks(np.arange(min_clusters, max_clusters+1, 1.0) )\n",
    "\n",
    "plt.show()\n",
    "\n",
    "# find recommended number of clusters\n",
    "from operator import itemgetter\n",
    "recommended_clusters = max(avg_silhouette,key=itemgetter(1))[0] # recommend num of clusters with highest silhouette\n",
    "\n",
    "print('Silhouette analysis recommends ' + str(recommended_clusters) + ' clusters.')"
   ]
  },
  {
   "cell_type": "markdown",
   "metadata": {},
   "source": [
    "#### 2.2.3 Clustering"
   ]
  },
  {
   "cell_type": "code",
   "execution_count": 17,
   "metadata": {
    "collapsed": false
   },
   "outputs": [
    {
     "data": {
      "text/html": [
       "\n",
       "          <script src=\"/static/components/requirejs/require.js\"></script>\n",
       "          <script>\n",
       "            requirejs.config({\n",
       "              paths: {\n",
       "                base: '/static/base',\n",
       "              },\n",
       "            });\n",
       "          </script>\n",
       "          "
      ],
      "text/plain": [
       "<IPython.core.display.HTML object>"
      ]
     },
     "metadata": {},
     "output_type": "display_data"
    }
   ],
   "source": [
    "# kmeans clustering\n",
    "clusterer = KMeans(n_clusters=recommended_clusters, random_state=10)\n",
    "cluster_labels = clusterer.fit_predict(input_df_scaled)\n",
    "cs_seed_var['cluster'] = cluster_labels + 1\n",
    "\n",
    "# adjust cluster # by number of customers\n",
    "# reorder cluster number based on R12 sales\n",
    "cluster_size = cs_seed_var.groupby('cluster').agg({'cust_id': 'count'}).reset_index()\n",
    "cluster_size['cluster_new'] = cluster_size['cluster']\n",
    "cluster_size['cluster_new'] = cluster_size['cust_id'].rank(ascending=False, method='first')\n",
    "\n",
    "# update new cluster index\n",
    "cs_cluster = cs_seed_var.merge(cluster_size[['cluster', 'cluster_new']], on='cluster')\n",
    "cs_cluster = cs_cluster.drop(['cluster'], axis=1).rename(columns = {'cluster_new': 'cluster'})"
   ]
  },
  {
   "cell_type": "markdown",
   "metadata": {},
   "source": [
    "## Step 3: Cluster Summary"
   ]
  },
  {
   "cell_type": "markdown",
   "metadata": {},
   "source": [
    "### 3.1 Subtrade Distribution"
   ]
  },
  {
   "cell_type": "code",
   "execution_count": 18,
   "metadata": {
    "codeCollapsed": false,
    "collapsed": false
   },
   "outputs": [
    {
     "data": {
      "text/html": [
       "\n",
       "          <script src=\"/static/components/requirejs/require.js\"></script>\n",
       "          <script>\n",
       "            requirejs.config({\n",
       "              paths: {\n",
       "                base: '/static/base',\n",
       "              },\n",
       "            });\n",
       "          </script>\n",
       "          "
      ],
      "text/plain": [
       "<IPython.core.display.HTML object>"
      ]
     },
     "metadata": {},
     "output_type": "display_data"
    },
    {
     "data": {
      "image/png": "[encoded data removed]",
      "text/plain": [
       "<matplotlib.figure.Figure at 0x7f18c658c810>"
      ]
     },
     "metadata": {},
     "output_type": "display_data"
    },
    {
     "data": {
      "text/html": [
       "<div>\n",
       "<table border=\"1\" class=\"dataframe\">\n",
       "  <thead>\n",
       "    <tr style=\"text-align: right;\">\n",
       "      <th></th>\n",
       "      <th>cluster #</th>\n",
       "      <th>total customers count</th>\n",
       "    </tr>\n",
       "  </thead>\n",
       "  <tbody>\n",
       "    <tr>\n",
       "      <th>0</th>\n",
       "      <td>1.0</td>\n",
       "      <td>968</td>\n",
       "    </tr>\n",
       "    <tr>\n",
       "      <th>1</th>\n",
       "      <td>2.0</td>\n",
       "      <td>273</td>\n",
       "    </tr>\n",
       "    <tr>\n",
       "      <th>2</th>\n",
       "      <td>3.0</td>\n",
       "      <td>206</td>\n",
       "    </tr>\n",
       "    <tr>\n",
       "      <th>3</th>\n",
       "      <td>4.0</td>\n",
       "      <td>117</td>\n",
       "    </tr>\n",
       "    <tr>\n",
       "      <th>4</th>\n",
       "      <td>5.0</td>\n",
       "      <td>112</td>\n",
       "    </tr>\n",
       "    <tr>\n",
       "      <th>5</th>\n",
       "      <td>6.0</td>\n",
       "      <td>109</td>\n",
       "    </tr>\n",
       "    <tr>\n",
       "      <th>6</th>\n",
       "      <td>7.0</td>\n",
       "      <td>52</td>\n",
       "    </tr>\n",
       "    <tr>\n",
       "      <th>7</th>\n",
       "      <td>8.0</td>\n",
       "      <td>46</td>\n",
       "    </tr>\n",
       "    <tr>\n",
       "      <th>8</th>\n",
       "      <td>9.0</td>\n",
       "      <td>36</td>\n",
       "    </tr>\n",
       "    <tr>\n",
       "      <th>9</th>\n",
       "      <td>10.0</td>\n",
       "      <td>25</td>\n",
       "    </tr>\n",
       "    <tr>\n",
       "      <th>10</th>\n",
       "      <td>11.0</td>\n",
       "      <td>24</td>\n",
       "    </tr>\n",
       "    <tr>\n",
       "      <th>11</th>\n",
       "      <td>12.0</td>\n",
       "      <td>2</td>\n",
       "    </tr>\n",
       "  </tbody>\n",
       "</table>\n",
       "</div>"
      ],
      "text/plain": [
       "    cluster #  total customers count\n",
       "0         1.0                    968\n",
       "1         2.0                    273\n",
       "2         3.0                    206\n",
       "3         4.0                    117\n",
       "4         5.0                    112\n",
       "5         6.0                    109\n",
       "6         7.0                     52\n",
       "7         8.0                     46\n",
       "8         9.0                     36\n",
       "9        10.0                     25\n",
       "10       11.0                     24\n",
       "11       12.0                      2"
      ]
     },
     "execution_count": 18,
     "metadata": {},
     "output_type": "execute_result"
    }
   ],
   "source": [
    "subtrade = cs_cluster.groupby(['cluster', 's_trd_typ_desc'], as_index=False).agg({'cust_id': 'count'}).reset_index()\n",
    "subtrade_pivot = subtrade.pivot(index='cluster', columns='s_trd_typ_desc', values='cust_id').reset_index()\n",
    "subtrade_pivot = subtrade_pivot.fillna(0)\n",
    "\n",
    "def get_cmap(n, name='hsv'):\n",
    "    return plt.cm.get_cmap(name, n)\n",
    "\n",
    "cmap = get_cmap(len(subtrade_pivot.columns))\n",
    "\n",
    "# cumulative count\n",
    "cumu = np.repeat(0, max(subtrade_pivot['cluster']))\n",
    "\n",
    "for i in range(2,len(subtrade_pivot.columns)):\n",
    "  d = plt.bar(subtrade_pivot['cluster'], subtrade_pivot.iloc[:,i], bottom=cumu, width=0.8, color=cmap(i), label=subtrade_pivot.columns.values[i])\n",
    "  cumu = subtrade_pivot.iloc[:,i] + cumu\n",
    "\n",
    "plt.ylabel('PRO Count')\n",
    "plt.title('Sub-Trade Type Distribution by Cluster', fontsize=14)\n",
    "\n",
    "plt.gca().set_xlim(left=1)\n",
    "plt.xticks(np.arange(min(subtrade_pivot['cluster']), max(subtrade_pivot['cluster'])+1, 1.0) )\n",
    "\n",
    "plt.legend(loc=(1.04,0))\n",
    "\n",
    "plt.show()\n",
    "\n",
    "# print cluster size\n",
    "cluster_size[['cluster_new', 'cust_id']].sort_values('cluster_new').rename(columns={'cluster_new': 'cluster #', 'cust_id': 'total customers count'}).reset_index(drop=True)"
   ]
  },
  {
   "cell_type": "markdown",
   "metadata": {},
   "source": [
    "### 3.2 Seed Variables Distribution"
   ]
  },
  {
   "cell_type": "code",
   "execution_count": 19,
   "metadata": {
    "codeCollapsed": false,
    "collapsed": false
   },
   "outputs": [
    {
     "data": {
      "text/html": [
       "\n",
       "          <script src=\"/static/components/requirejs/require.js\"></script>\n",
       "          <script>\n",
       "            requirejs.config({\n",
       "              paths: {\n",
       "                base: '/static/base',\n",
       "              },\n",
       "            });\n",
       "          </script>\n",
       "          "
      ],
      "text/plain": [
       "<IPython.core.display.HTML object>"
      ]
     },
     "metadata": {},
     "output_type": "display_data"
    },
    {
     "data": {
      "image/png": "[encoded data removed]",
      "text/plain": [
       "<matplotlib.figure.Figure at 0x7f18e86d0290>"
      ]
     },
     "metadata": {},
     "output_type": "display_data"
    },
    {
     "data": {
      "image/png": "[encoded data removed]",
      "text/plain": [
       "<matplotlib.figure.Figure at 0x7f18cb7fc950>"
      ]
     },
     "metadata": {},
     "output_type": "display_data"
    },
    {
     "data": {
      "text/html": [
       "<div>\n",
       "<table border=\"1\" class=\"dataframe\">\n",
       "  <thead>\n",
       "    <tr style=\"text-align: right;\">\n",
       "      <th></th>\n",
       "      <th>cluster #</th>\n",
       "      <th>Total R12 Transactions</th>\n",
       "      <th>Total R12 Sales</th>\n",
       "      <th>D21_LUMBER</th>\n",
       "      <th>D22_BUILDING MATERIALS</th>\n",
       "      <th>D23_FLOORING</th>\n",
       "      <th>D24_PAINT</th>\n",
       "      <th>D25_HARDWARE</th>\n",
       "      <th>D26_PLUMBING</th>\n",
       "      <th>D27_ELECTRICAL AND LIGHTING</th>\n",
       "      <th>D28_SEASONAL/GARDEN</th>\n",
       "      <th>D29_KITCHEN AND BATH</th>\n",
       "      <th>D30_MILLWORK</th>\n",
       "      <th>D59_BLINDS AND WALLPAPER</th>\n",
       "    </tr>\n",
       "  </thead>\n",
       "  <tbody>\n",
       "    <tr>\n",
       "      <th>0</th>\n",
       "      <td>1.0</td>\n",
       "      <td>555.0</td>\n",
       "      <td>90449.0</td>\n",
       "      <td>0.172</td>\n",
       "      <td>0.128</td>\n",
       "      <td>0.065</td>\n",
       "      <td>0.095</td>\n",
       "      <td>0.107</td>\n",
       "      <td>0.091</td>\n",
       "      <td>0.089</td>\n",
       "      <td>0.044</td>\n",
       "      <td>0.078</td>\n",
       "      <td>0.120</td>\n",
       "      <td>0.010</td>\n",
       "    </tr>\n",
       "    <tr>\n",
       "      <th>1</th>\n",
       "      <td>2.0</td>\n",
       "      <td>722.0</td>\n",
       "      <td>86856.0</td>\n",
       "      <td>0.121</td>\n",
       "      <td>0.097</td>\n",
       "      <td>0.040</td>\n",
       "      <td>0.107</td>\n",
       "      <td>0.297</td>\n",
       "      <td>0.060</td>\n",
       "      <td>0.099</td>\n",
       "      <td>0.113</td>\n",
       "      <td>0.041</td>\n",
       "      <td>0.021</td>\n",
       "      <td>0.004</td>\n",
       "    </tr>\n",
       "    <tr>\n",
       "      <th>2</th>\n",
       "      <td>3.0</td>\n",
       "      <td>275.0</td>\n",
       "      <td>80589.0</td>\n",
       "      <td>0.620</td>\n",
       "      <td>0.109</td>\n",
       "      <td>0.019</td>\n",
       "      <td>0.034</td>\n",
       "      <td>0.088</td>\n",
       "      <td>0.019</td>\n",
       "      <td>0.028</td>\n",
       "      <td>0.025</td>\n",
       "      <td>0.016</td>\n",
       "      <td>0.041</td>\n",
       "      <td>0.001</td>\n",
       "    </tr>\n",
       "    <tr>\n",
       "      <th>3</th>\n",
       "      <td>4.0</td>\n",
       "      <td>369.0</td>\n",
       "      <td>115606.0</td>\n",
       "      <td>0.070</td>\n",
       "      <td>0.075</td>\n",
       "      <td>0.062</td>\n",
       "      <td>0.055</td>\n",
       "      <td>0.066</td>\n",
       "      <td>0.082</td>\n",
       "      <td>0.089</td>\n",
       "      <td>0.036</td>\n",
       "      <td>0.378</td>\n",
       "      <td>0.078</td>\n",
       "      <td>0.010</td>\n",
       "    </tr>\n",
       "    <tr>\n",
       "      <th>4</th>\n",
       "      <td>5.0</td>\n",
       "      <td>317.0</td>\n",
       "      <td>67128.0</td>\n",
       "      <td>0.092</td>\n",
       "      <td>0.101</td>\n",
       "      <td>0.294</td>\n",
       "      <td>0.079</td>\n",
       "      <td>0.087</td>\n",
       "      <td>0.072</td>\n",
       "      <td>0.081</td>\n",
       "      <td>0.039</td>\n",
       "      <td>0.085</td>\n",
       "      <td>0.062</td>\n",
       "      <td>0.007</td>\n",
       "    </tr>\n",
       "    <tr>\n",
       "      <th>5</th>\n",
       "      <td>6.0</td>\n",
       "      <td>247.0</td>\n",
       "      <td>68820.0</td>\n",
       "      <td>0.110</td>\n",
       "      <td>0.599</td>\n",
       "      <td>0.028</td>\n",
       "      <td>0.040</td>\n",
       "      <td>0.071</td>\n",
       "      <td>0.035</td>\n",
       "      <td>0.032</td>\n",
       "      <td>0.027</td>\n",
       "      <td>0.035</td>\n",
       "      <td>0.024</td>\n",
       "      <td>0.001</td>\n",
       "    </tr>\n",
       "    <tr>\n",
       "      <th>6</th>\n",
       "      <td>7.0</td>\n",
       "      <td>322.0</td>\n",
       "      <td>72245.0</td>\n",
       "      <td>0.021</td>\n",
       "      <td>0.016</td>\n",
       "      <td>0.013</td>\n",
       "      <td>0.010</td>\n",
       "      <td>0.058</td>\n",
       "      <td>0.020</td>\n",
       "      <td>0.813</td>\n",
       "      <td>0.019</td>\n",
       "      <td>0.016</td>\n",
       "      <td>0.014</td>\n",
       "      <td>0.001</td>\n",
       "    </tr>\n",
       "    <tr>\n",
       "      <th>7</th>\n",
       "      <td>8.0</td>\n",
       "      <td>697.0</td>\n",
       "      <td>77100.0</td>\n",
       "      <td>0.040</td>\n",
       "      <td>0.051</td>\n",
       "      <td>0.023</td>\n",
       "      <td>0.045</td>\n",
       "      <td>0.101</td>\n",
       "      <td>0.503</td>\n",
       "      <td>0.085</td>\n",
       "      <td>0.052</td>\n",
       "      <td>0.067</td>\n",
       "      <td>0.027</td>\n",
       "      <td>0.006</td>\n",
       "    </tr>\n",
       "    <tr>\n",
       "      <th>8</th>\n",
       "      <td>9.0</td>\n",
       "      <td>326.0</td>\n",
       "      <td>44411.0</td>\n",
       "      <td>0.072</td>\n",
       "      <td>0.076</td>\n",
       "      <td>0.030</td>\n",
       "      <td>0.064</td>\n",
       "      <td>0.134</td>\n",
       "      <td>0.079</td>\n",
       "      <td>0.071</td>\n",
       "      <td>0.407</td>\n",
       "      <td>0.042</td>\n",
       "      <td>0.017</td>\n",
       "      <td>0.007</td>\n",
       "    </tr>\n",
       "    <tr>\n",
       "      <th>9</th>\n",
       "      <td>10.0</td>\n",
       "      <td>327.0</td>\n",
       "      <td>58673.0</td>\n",
       "      <td>0.069</td>\n",
       "      <td>0.051</td>\n",
       "      <td>0.028</td>\n",
       "      <td>0.602</td>\n",
       "      <td>0.072</td>\n",
       "      <td>0.019</td>\n",
       "      <td>0.043</td>\n",
       "      <td>0.061</td>\n",
       "      <td>0.034</td>\n",
       "      <td>0.017</td>\n",
       "      <td>0.005</td>\n",
       "    </tr>\n",
       "    <tr>\n",
       "      <th>10</th>\n",
       "      <td>11.0</td>\n",
       "      <td>6898.0</td>\n",
       "      <td>1541538.0</td>\n",
       "      <td>0.087</td>\n",
       "      <td>0.093</td>\n",
       "      <td>0.071</td>\n",
       "      <td>0.077</td>\n",
       "      <td>0.133</td>\n",
       "      <td>0.088</td>\n",
       "      <td>0.113</td>\n",
       "      <td>0.063</td>\n",
       "      <td>0.174</td>\n",
       "      <td>0.077</td>\n",
       "      <td>0.022</td>\n",
       "    </tr>\n",
       "    <tr>\n",
       "      <th>11</th>\n",
       "      <td>12.0</td>\n",
       "      <td>34278.0</td>\n",
       "      <td>6729926.0</td>\n",
       "      <td>0.038</td>\n",
       "      <td>0.056</td>\n",
       "      <td>0.028</td>\n",
       "      <td>0.044</td>\n",
       "      <td>0.098</td>\n",
       "      <td>0.389</td>\n",
       "      <td>0.120</td>\n",
       "      <td>0.026</td>\n",
       "      <td>0.110</td>\n",
       "      <td>0.065</td>\n",
       "      <td>0.026</td>\n",
       "    </tr>\n",
       "  </tbody>\n",
       "</table>\n",
       "</div>"
      ],
      "text/plain": [
       "    cluster #  Total R12 Transactions  Total R12 Sales  D21_LUMBER  \\\n",
       "0         1.0                   555.0          90449.0       0.172   \n",
       "1         2.0                   722.0          86856.0       0.121   \n",
       "2         3.0                   275.0          80589.0       0.620   \n",
       "3         4.0                   369.0         115606.0       0.070   \n",
       "4         5.0                   317.0          67128.0       0.092   \n",
       "5         6.0                   247.0          68820.0       0.110   \n",
       "6         7.0                   322.0          72245.0       0.021   \n",
       "7         8.0                   697.0          77100.0       0.040   \n",
       "8         9.0                   326.0          44411.0       0.072   \n",
       "9        10.0                   327.0          58673.0       0.069   \n",
       "10       11.0                  6898.0        1541538.0       0.087   \n",
       "11       12.0                 34278.0        6729926.0       0.038   \n",
       "\n",
       "    D22_BUILDING MATERIALS  D23_FLOORING  D24_PAINT  D25_HARDWARE  \\\n",
       "0                    0.128         0.065      0.095         0.107   \n",
       "1                    0.097         0.040      0.107         0.297   \n",
       "2                    0.109         0.019      0.034         0.088   \n",
       "3                    0.075         0.062      0.055         0.066   \n",
       "4                    0.101         0.294      0.079         0.087   \n",
       "5                    0.599         0.028      0.040         0.071   \n",
       "6                    0.016         0.013      0.010         0.058   \n",
       "7                    0.051         0.023      0.045         0.101   \n",
       "8                    0.076         0.030      0.064         0.134   \n",
       "9                    0.051         0.028      0.602         0.072   \n",
       "10                   0.093         0.071      0.077         0.133   \n",
       "11                   0.056         0.028      0.044         0.098   \n",
       "\n",
       "    D26_PLUMBING  D27_ELECTRICAL AND LIGHTING  D28_SEASONAL/GARDEN  \\\n",
       "0          0.091                        0.089                0.044   \n",
       "1          0.060                        0.099                0.113   \n",
       "2          0.019                        0.028                0.025   \n",
       "3          0.082                        0.089                0.036   \n",
       "4          0.072                        0.081                0.039   \n",
       "5          0.035                        0.032                0.027   \n",
       "6          0.020                        0.813                0.019   \n",
       "7          0.503                        0.085                0.052   \n",
       "8          0.079                        0.071                0.407   \n",
       "9          0.019                        0.043                0.061   \n",
       "10         0.088                        0.113                0.063   \n",
       "11         0.389                        0.120                0.026   \n",
       "\n",
       "    D29_KITCHEN AND BATH  D30_MILLWORK  D59_BLINDS AND WALLPAPER  \n",
       "0                  0.078         0.120                     0.010  \n",
       "1                  0.041         0.021                     0.004  \n",
       "2                  0.016         0.041                     0.001  \n",
       "3                  0.378         0.078                     0.010  \n",
       "4                  0.085         0.062                     0.007  \n",
       "5                  0.035         0.024                     0.001  \n",
       "6                  0.016         0.014                     0.001  \n",
       "7                  0.067         0.027                     0.006  \n",
       "8                  0.042         0.017                     0.007  \n",
       "9                  0.034         0.017                     0.005  \n",
       "10                 0.174         0.077                     0.022  \n",
       "11                 0.110         0.065                     0.026  "
      ]
     },
     "execution_count": 19,
     "metadata": {},
     "output_type": "execute_result"
    }
   ],
   "source": [
    "# calculate the average of seed variable value for each cluster\n",
    "seed_avg = cs_cluster.iloc[:,2:17].groupby('cluster').mean().reset_index()\n",
    "\n",
    "# plot R12 metrics\n",
    "fig, ax1 = plt.subplots()\n",
    "\n",
    "ax1.bar(seed_avg['cluster'], seed_avg['tot_r12_sls_amt'], color='b', label='Avg R12 Sales')\n",
    "ax1.set_xlabel('Cluster #')\n",
    "ax1.set_ylabel('Avg R12 Sales', color='b')\n",
    "ax1.tick_params('y', colors='b')\n",
    "\n",
    "ax2 = ax1.twinx()\n",
    "ax2.bar(seed_avg['cluster'], seed_avg['tot_r12_txn_cnt'], color='r', width=0.4)\n",
    "ax2.set_ylabel('Avg R12 Transactions', color='r')\n",
    "ax2.tick_params('y', colors='r')\n",
    "\n",
    "plt.title('Average R12 Sales and Transactions by Cluster', fontsize=14)\n",
    "plt.gca().set_xlim(left=1)\n",
    "plt.xticks(np.arange(min(seed_avg['cluster']), max(seed_avg['cluster'])+1, 1.0))\n",
    "\n",
    "plt.show()\n",
    "\n",
    "# plot dept penetration\n",
    "cmap = get_cmap(15)\n",
    "\n",
    "# cumulative spending penetration\n",
    "cumu = np.repeat(0, max(seed_avg['cluster']))\n",
    "\n",
    "for i in range(3,14):\n",
    "  d = plt.bar(seed_avg['cluster'], seed_avg.iloc[:,i], bottom=cumu, width=0.8, color=cmap(i), label=seed_avg.columns.values[i])\n",
    "  cumu = seed_avg.iloc[:,i] + cumu\n",
    "\n",
    "plt.ylabel('Department Penetration')\n",
    "plt.title('Department Penetration by Cluster', fontsize=14)\n",
    "\n",
    "plt.gca().set_xlim(left=1)\n",
    "plt.xticks(np.arange(min(seed_avg['cluster']), max(seed_avg['cluster'])+1, 1.0) )\n",
    "\n",
    "plt.gca().set_ylim([0,1])\n",
    "\n",
    "plt.legend(loc=(1.04,0))\n",
    "\n",
    "plt.show()\n",
    "\n",
    "\n",
    "# display data\n",
    "seed_avg = seed_avg.round(3)\n",
    "seed_avg = seed_avg.round({'tot_r12_txn_cnt': 0,'tot_r12_sls_amt': 0})\n",
    "\n",
    "seed_avg.rename(columns={'cluster': 'cluster #', 'tot_r12_txn_cnt': 'Total R12 Transactions', 'tot_r12_sls_amt': 'Total R12 Sales'}).reset_index(drop=True)"
   ]
  },
  {
   "cell_type": "markdown",
   "metadata": {},
   "source": [
    "### 3.3 Review Outliers"
   ]
  },
  {
   "cell_type": "markdown",
   "metadata": {},
   "source": [
    "Clusters which size is less than outlier threshold will be displayed here:"
   ]
  },
  {
   "cell_type": "code",
   "execution_count": 20,
   "metadata": {
    "collapsed": false
   },
   "outputs": [
    {
     "data": {
      "text/html": [
       "\n",
       "          <script src=\"/static/components/requirejs/require.js\"></script>\n",
       "          <script>\n",
       "            requirejs.config({\n",
       "              paths: {\n",
       "                base: '/static/base',\n",
       "              },\n",
       "            });\n",
       "          </script>\n",
       "          "
      ],
      "text/plain": [
       "<IPython.core.display.HTML object>"
      ]
     },
     "metadata": {},
     "output_type": "display_data"
    },
    {
     "data": {
      "text/html": [
       "<div>\n",
       "<table border=\"1\" class=\"dataframe\">\n",
       "  <thead>\n",
       "    <tr style=\"text-align: right;\">\n",
       "      <th></th>\n",
       "      <th>cluster #</th>\n",
       "      <th>total customers count</th>\n",
       "    </tr>\n",
       "  </thead>\n",
       "  <tbody>\n",
       "    <tr>\n",
       "      <th>7</th>\n",
       "      <td>12.0</td>\n",
       "      <td>2</td>\n",
       "    </tr>\n",
       "  </tbody>\n",
       "</table>\n",
       "</div>"
      ],
      "text/plain": [
       "   cluster #  total customers count\n",
       "7       12.0                      2"
      ]
     },
     "execution_count": 20,
     "metadata": {},
     "output_type": "execute_result"
    }
   ],
   "source": [
    "cluster_size[['cluster_new', 'cust_id']][cluster_size['cust_id'] < outlier_threshold].rename(columns={'cluster_new': 'cluster #', 'cust_id': 'total customers count'})"
   ]
  },
  {
   "cell_type": "markdown",
   "metadata": {},
   "source": [
    "The following customers are outliers:"
   ]
  },
  {
   "cell_type": "code",
   "execution_count": 21,
   "metadata": {
    "collapsed": false
   },
   "outputs": [
    {
     "data": {
      "text/html": [
       "\n",
       "          <script src=\"/static/components/requirejs/require.js\"></script>\n",
       "          <script>\n",
       "            requirejs.config({\n",
       "              paths: {\n",
       "                base: '/static/base',\n",
       "              },\n",
       "            });\n",
       "          </script>\n",
       "          "
      ],
      "text/plain": [
       "<IPython.core.display.HTML object>"
      ]
     },
     "metadata": {},
     "output_type": "display_data"
    },
    {
     "data": {
      "text/html": [
       "<div>\n",
       "<table border=\"1\" class=\"dataframe\">\n",
       "  <thead>\n",
       "    <tr style=\"text-align: right;\">\n",
       "      <th></th>\n",
       "      <th>cust_id</th>\n",
       "      <th>Subtrade Type</th>\n",
       "      <th>Total R12 Transactions</th>\n",
       "      <th>Total R12 Sales</th>\n",
       "      <th>D21_LUMBER</th>\n",
       "      <th>D22_BUILDING MATERIALS</th>\n",
       "      <th>D23_FLOORING</th>\n",
       "      <th>D24_PAINT</th>\n",
       "      <th>D25_HARDWARE</th>\n",
       "      <th>D26_PLUMBING</th>\n",
       "      <th>D27_ELECTRICAL AND LIGHTING</th>\n",
       "      <th>D28_SEASONAL/GARDEN</th>\n",
       "      <th>D29_KITCHEN AND BATH</th>\n",
       "      <th>D30_MILLWORK</th>\n",
       "      <th>D59_BLINDS AND WALLPAPER</th>\n",
       "      <th>cluster #</th>\n",
       "    </tr>\n",
       "  </thead>\n",
       "  <tbody>\n",
       "    <tr>\n",
       "      <th>1968</th>\n",
       "      <td>1536773</td>\n",
       "      <td>Property Investor</td>\n",
       "      <td>30032</td>\n",
       "      <td>9034337.0</td>\n",
       "      <td>0.050</td>\n",
       "      <td>0.055</td>\n",
       "      <td>0.052</td>\n",
       "      <td>0.056</td>\n",
       "      <td>0.110</td>\n",
       "      <td>0.152</td>\n",
       "      <td>0.163</td>\n",
       "      <td>0.015</td>\n",
       "      <td>0.169</td>\n",
       "      <td>0.127</td>\n",
       "      <td>0.051</td>\n",
       "      <td>12.0</td>\n",
       "    </tr>\n",
       "    <tr>\n",
       "      <th>1969</th>\n",
       "      <td>1478250</td>\n",
       "      <td>Plumber</td>\n",
       "      <td>38523</td>\n",
       "      <td>4425515.0</td>\n",
       "      <td>0.027</td>\n",
       "      <td>0.056</td>\n",
       "      <td>0.005</td>\n",
       "      <td>0.032</td>\n",
       "      <td>0.085</td>\n",
       "      <td>0.626</td>\n",
       "      <td>0.077</td>\n",
       "      <td>0.037</td>\n",
       "      <td>0.052</td>\n",
       "      <td>0.003</td>\n",
       "      <td>0.000</td>\n",
       "      <td>12.0</td>\n",
       "    </tr>\n",
       "  </tbody>\n",
       "</table>\n",
       "</div>"
      ],
      "text/plain": [
       "      cust_id      Subtrade Type  Total R12 Transactions  Total R12 Sales  \\\n",
       "1968  1536773  Property Investor                   30032        9034337.0   \n",
       "1969  1478250            Plumber                   38523        4425515.0   \n",
       "\n",
       "      D21_LUMBER  D22_BUILDING MATERIALS  D23_FLOORING  D24_PAINT  \\\n",
       "1968       0.050                   0.055         0.052      0.056   \n",
       "1969       0.027                   0.056         0.005      0.032   \n",
       "\n",
       "      D25_HARDWARE  D26_PLUMBING  D27_ELECTRICAL AND LIGHTING  \\\n",
       "1968         0.110         0.152                        0.163   \n",
       "1969         0.085         0.626                        0.077   \n",
       "\n",
       "      D28_SEASONAL/GARDEN  D29_KITCHEN AND BATH  D30_MILLWORK  \\\n",
       "1968                0.015                 0.169         0.127   \n",
       "1969                0.037                 0.052         0.003   \n",
       "\n",
       "      D59_BLINDS AND WALLPAPER  cluster #  \n",
       "1968                     0.051       12.0  \n",
       "1969                     0.000       12.0  "
      ]
     },
     "execution_count": 21,
     "metadata": {},
     "output_type": "execute_result"
    }
   ],
   "source": [
    "outlier = cs_cluster[cs_cluster['cluster'] >= min(cluster_size['cluster_new'][cluster_size['cust_id'] < outlier_threshold])]\n",
    "outlier.rename(columns={'cluster': 'cluster #', 's_trd_typ_desc': 'Subtrade Type', 'tot_r12_txn_cnt': 'Total R12 Transactions', 'tot_r12_sls_amt': 'Total R12 Sales'})"
   ]
  },
  {
   "cell_type": "code",
   "execution_count": null,
   "metadata": {
    "collapsed": false
   },
   "outputs": [],
   "source": [
    "print('Please review clustering result before running granular clustering. ')\n",
    "break"
   ]
  },
  {
   "cell_type": "markdown",
   "metadata": {},
   "source": [
    "## Step 4: Granular Clustering"
   ]
  },
  {
   "cell_type": "markdown",
   "metadata": {},
   "source": [
    "### 4.0 Reset Temp Table"
   ]
  },
  {
   "cell_type": "code",
   "execution_count": 22,
   "metadata": {
    "collapsed": false
   },
   "outputs": [
    {
     "data": {
      "text/html": [
       "\n",
       "          <script src=\"/static/components/requirejs/require.js\"></script>\n",
       "          <script>\n",
       "            requirejs.config({\n",
       "              paths: {\n",
       "                base: '/static/base',\n",
       "              },\n",
       "            });\n",
       "          </script>\n",
       "          "
      ],
      "text/plain": [
       "<IPython.core.display.HTML object>"
      ]
     },
     "metadata": {},
     "output_type": "display_data"
    },
    {
     "data": {
      "text/plain": [
       "True"
      ]
     },
     "execution_count": 22,
     "metadata": {},
     "output_type": "execute_result"
    }
   ],
   "source": [
    "# define BigQuery table for storing subcluster data\n",
    "# drop the existing table\n",
    "subcluster_temp_table = bq.Table(output_dataset+'.cs_subcluster_temp')\n",
    "subcluster_temp_table.delete()"
   ]
  },
  {
   "cell_type": "markdown",
   "metadata": {},
   "source": [
    "### 4.1 Select Cluster and Department"
   ]
  },
  {
   "cell_type": "markdown",
   "metadata": {},
   "source": [
    "Note: subclustering can be run multiple times for different clusters and departments; the result from each run will be save in the cs_subcluster_temp table"
   ]
  },
  {
   "cell_type": "code",
   "execution_count": 23,
   "metadata": {
    "collapsed": false
   },
   "outputs": [
    {
     "data": {
      "text/html": [
       "\n",
       "          <script src=\"/static/components/requirejs/require.js\"></script>\n",
       "          <script>\n",
       "            requirejs.config({\n",
       "              paths: {\n",
       "                base: '/static/base',\n",
       "              },\n",
       "            });\n",
       "          </script>\n",
       "          "
      ],
      "text/plain": [
       "<IPython.core.display.HTML object>"
      ]
     },
     "metadata": {},
     "output_type": "display_data"
    }
   ],
   "source": [
    "# pick a cluster and a department to run class level clustering\n",
    "cluster_index = 7\n",
    "dept_nbr = 27"
   ]
  },
  {
   "cell_type": "markdown",
   "metadata": {},
   "source": [
    "### 4.2 Subclustering"
   ]
  },
  {
   "cell_type": "code",
   "execution_count": 24,
   "metadata": {
    "codeCollapsed": false,
    "collapsed": false,
    "hiddenCell": false
   },
   "outputs": [
    {
     "data": {
      "text/html": [
       "\n",
       "          <script src=\"/static/components/requirejs/require.js\"></script>\n",
       "          <script>\n",
       "            requirejs.config({\n",
       "              paths: {\n",
       "                base: '/static/base',\n",
       "              },\n",
       "            });\n",
       "          </script>\n",
       "          "
      ],
      "text/plain": [
       "<IPython.core.display.HTML object>"
      ]
     },
     "metadata": {},
     "output_type": "display_data"
    }
   ],
   "source": [
    "# select customers in picked cluster and transactions in picked department\n",
    "subcluster = cs_seed_df[cs_seed_df['cust_id'].isin(cs_cluster['cust_id'][cs_cluster['cluster']==cluster_index])]\n",
    "subcluster = subcluster[subcluster['dept_nbr'] == dept_nbr]\n",
    "\n",
    "# add class name\n",
    "subcluster = subcluster.assign(class_nm = subcluster.dept_nbr.astype(str) + '_' + \n",
    "                               subcluster.item_class_cd.astype(str) + '_' + subcluster.item_class_desc)\n",
    "\n",
    "# calculate class penetration\n",
    "subcluster['total_dept_sales'] = subcluster['categ_r12_sls_amt'].groupby([subcluster['cust_id'], subcluster['dept_nbr']]).transform('sum')\n",
    "\n",
    "subcluster['categ_percent'] = subcluster['categ_r12_sls_amt'] / subcluster['total_dept_sales']\n",
    "\n",
    "# reshape data \n",
    "col_index = subcluster[['dept_nbr', 'item_class_cd', 'class_nm']].drop_duplicates().sort_values(['dept_nbr', 'item_class_cd'])\n",
    "\n",
    "subcluster = subcluster.pivot(index='cust_id', columns='class_nm', values='categ_percent').reset_index()\n",
    "subcluster = subcluster.reindex_axis(['cust_id'] + list(col_index.class_nm), axis=1)\n",
    "subcluster = subcluster.fillna(0)\n",
    "\n",
    "# silhouette analysis\n",
    "avg_silhouette = [] # create a list for number of clusters and average silhouette value\n",
    "\n",
    "range_n_clusters = range(min_clusters, max_clusters+1)\n",
    "\n",
    "for i in range_n_clusters:\n",
    "    avg_silhouette.append(cal_cluster_silhouette(subcluster.iloc[:, 1:len(subcluster.columns)], i))\n",
    "\n",
    "silhouette_chart = pd.DataFrame(avg_silhouette)\n",
    "\n",
    "silhouette_chart.rename(columns=dict(zip(silhouette_chart.columns, ['number_of_clusters', 'silhouette_score'])), inplace=True)\n",
    "\n",
    "recommended_clusters = max(avg_silhouette,key=itemgetter(1))[0] # recommend num of clusters with highest silhouette\n",
    "\n",
    "# kmeans clustering\n",
    "clusterer = KMeans(n_clusters=recommended_clusters, random_state=10)\n",
    "cluster_labels = clusterer.fit_predict(subcluster.iloc[:, 1:len(subcluster.columns)])\n",
    "subcluster['subcluster'] = cluster_labels + 1\n",
    "\n",
    "# adjust cluster # by number of customers\n",
    "subcluster_size = subcluster.groupby('subcluster').agg({'cust_id': 'count'}).reset_index()\n",
    "\n",
    "subcluster_size['subcluster_new'] = subcluster_size['subcluster']\n",
    "\n",
    "## reorder cluster number based on R12 sales\n",
    "subcluster_size['subcluster_new'] = subcluster_size['cust_id'].rank(ascending=False, method='first')\n",
    "\n",
    "# merge cluster result with input dataframe\n",
    "subcluster = subcluster.merge(subcluster_size[['subcluster', 'subcluster_new']], on='subcluster')\n",
    "\n",
    "subcluster = subcluster.drop(['subcluster'], axis=1).rename(columns = {'subcluster_new': 'subcluster'})\n"
   ]
  },
  {
   "cell_type": "markdown",
   "metadata": {},
   "source": [
    "### 4.3 Subcluster Summary"
   ]
  },
  {
   "cell_type": "code",
   "execution_count": 25,
   "metadata": {
    "codeCollapsed": false,
    "collapsed": false,
    "hiddenCell": false
   },
   "outputs": [
    {
     "data": {
      "text/html": [
       "\n",
       "          <script src=\"/static/components/requirejs/require.js\"></script>\n",
       "          <script>\n",
       "            requirejs.config({\n",
       "              paths: {\n",
       "                base: '/static/base',\n",
       "              },\n",
       "            });\n",
       "          </script>\n",
       "          "
      ],
      "text/plain": [
       "<IPython.core.display.HTML object>"
      ]
     },
     "metadata": {},
     "output_type": "display_data"
    },
    {
     "data": {
      "text/html": [
       "<div>\n",
       "<table border=\"1\" class=\"dataframe\">\n",
       "  <thead>\n",
       "    <tr style=\"text-align: right;\">\n",
       "      <th></th>\n",
       "      <th>subcluster #</th>\n",
       "      <th>total number of customers</th>\n",
       "    </tr>\n",
       "  </thead>\n",
       "  <tbody>\n",
       "    <tr>\n",
       "      <th>1</th>\n",
       "      <td>1.0</td>\n",
       "      <td>36</td>\n",
       "    </tr>\n",
       "    <tr>\n",
       "      <th>0</th>\n",
       "      <td>2.0</td>\n",
       "      <td>13</td>\n",
       "    </tr>\n",
       "    <tr>\n",
       "      <th>2</th>\n",
       "      <td>3.0</td>\n",
       "      <td>3</td>\n",
       "    </tr>\n",
       "  </tbody>\n",
       "</table>\n",
       "</div>"
      ],
      "text/plain": [
       "   subcluster #  total number of customers\n",
       "1           1.0                         36\n",
       "0           2.0                         13\n",
       "2           3.0                          3"
      ]
     },
     "execution_count": 25,
     "metadata": {},
     "output_type": "execute_result"
    }
   ],
   "source": [
    "# subcluster size\n",
    "subcluster_size[['subcluster_new', 'cust_id']].sort_values('subcluster_new').rename(columns = {'subcluster_new': 'subcluster #', 'cust_id': 'total number of customers'})"
   ]
  },
  {
   "cell_type": "code",
   "execution_count": 26,
   "metadata": {
    "codeCollapsed": false,
    "collapsed": false,
    "hiddenCell": false
   },
   "outputs": [
    {
     "data": {
      "text/html": [
       "\n",
       "          <script src=\"/static/components/requirejs/require.js\"></script>\n",
       "          <script>\n",
       "            requirejs.config({\n",
       "              paths: {\n",
       "                base: '/static/base',\n",
       "              },\n",
       "            });\n",
       "          </script>\n",
       "          "
      ],
      "text/plain": [
       "<IPython.core.display.HTML object>"
      ]
     },
     "metadata": {},
     "output_type": "display_data"
    },
    {
     "data": {
      "image/png": "[encoded data removed]",
      "text/plain": [
       "<matplotlib.figure.Figure at 0x7f18e846dbd0>"
      ]
     },
     "metadata": {},
     "output_type": "display_data"
    },
    {
     "data": {
      "text/html": [
       "<div>\n",
       "<table border=\"1\" class=\"dataframe\">\n",
       "  <thead>\n",
       "    <tr style=\"text-align: right;\">\n",
       "      <th></th>\n",
       "      <th>subcluster</th>\n",
       "      <th>27_1_LIGHT BULBS</th>\n",
       "      <th>27_2_WIRING DEVICES</th>\n",
       "      <th>27_3_EXT CORD/WORKLIGHT/SURGE</th>\n",
       "      <th>27_4_WIRE</th>\n",
       "      <th>27_5_SAFETY/SECURITY</th>\n",
       "      <th>27_6_CONDUIT/BOXES/FITTINGS</th>\n",
       "      <th>27_7_LANDSCAPE LIGHTING</th>\n",
       "      <th>27_8_CIRCUIT PROTECT. DEVICES</th>\n",
       "      <th>27_9_HOME ELECTRONICS</th>\n",
       "      <th>...</th>\n",
       "      <th>27_12_TRACK &amp; ACCENT LTG</th>\n",
       "      <th>27_13_RECESSED LIGHTING</th>\n",
       "      <th>27_15_COMMERCIAL &amp; INDUSTRIAL</th>\n",
       "      <th>27_16_INTERIOR LIGHTING</th>\n",
       "      <th>27_18_EXTERIOR DECORATIVE</th>\n",
       "      <th>27_20_CEILING FANS</th>\n",
       "      <th>27_23_PORTABLE HEATING</th>\n",
       "      <th>27_26_EXTERIOR SECURITY</th>\n",
       "      <th>27_31_CONTROL</th>\n",
       "      <th>27_90_MISCELLANEOUS</th>\n",
       "    </tr>\n",
       "  </thead>\n",
       "  <tbody>\n",
       "    <tr>\n",
       "      <th>0</th>\n",
       "      <td>1.0</td>\n",
       "      <td>0.035</td>\n",
       "      <td>0.120</td>\n",
       "      <td>0.009</td>\n",
       "      <td>0.302</td>\n",
       "      <td>0.016</td>\n",
       "      <td>0.142</td>\n",
       "      <td>0.005</td>\n",
       "      <td>0.151</td>\n",
       "      <td>0.015</td>\n",
       "      <td>...</td>\n",
       "      <td>0.013</td>\n",
       "      <td>0.063</td>\n",
       "      <td>0.034</td>\n",
       "      <td>0.022</td>\n",
       "      <td>0.004</td>\n",
       "      <td>0.015</td>\n",
       "      <td>0.000</td>\n",
       "      <td>0.011</td>\n",
       "      <td>0.006</td>\n",
       "      <td>0.0</td>\n",
       "    </tr>\n",
       "    <tr>\n",
       "      <th>1</th>\n",
       "      <td>2.0</td>\n",
       "      <td>0.011</td>\n",
       "      <td>0.019</td>\n",
       "      <td>0.003</td>\n",
       "      <td>0.808</td>\n",
       "      <td>0.001</td>\n",
       "      <td>0.080</td>\n",
       "      <td>0.000</td>\n",
       "      <td>0.030</td>\n",
       "      <td>0.007</td>\n",
       "      <td>...</td>\n",
       "      <td>0.002</td>\n",
       "      <td>0.017</td>\n",
       "      <td>0.004</td>\n",
       "      <td>0.000</td>\n",
       "      <td>0.001</td>\n",
       "      <td>0.001</td>\n",
       "      <td>0.001</td>\n",
       "      <td>0.004</td>\n",
       "      <td>0.001</td>\n",
       "      <td>0.0</td>\n",
       "    </tr>\n",
       "    <tr>\n",
       "      <th>2</th>\n",
       "      <td>3.0</td>\n",
       "      <td>0.134</td>\n",
       "      <td>0.011</td>\n",
       "      <td>0.011</td>\n",
       "      <td>0.011</td>\n",
       "      <td>0.207</td>\n",
       "      <td>0.004</td>\n",
       "      <td>0.000</td>\n",
       "      <td>0.001</td>\n",
       "      <td>0.005</td>\n",
       "      <td>...</td>\n",
       "      <td>0.000</td>\n",
       "      <td>0.001</td>\n",
       "      <td>0.607</td>\n",
       "      <td>0.000</td>\n",
       "      <td>0.001</td>\n",
       "      <td>0.001</td>\n",
       "      <td>0.004</td>\n",
       "      <td>0.000</td>\n",
       "      <td>0.001</td>\n",
       "      <td>0.0</td>\n",
       "    </tr>\n",
       "  </tbody>\n",
       "</table>\n",
       "<p>3 rows × 21 columns</p>\n",
       "</div>"
      ],
      "text/plain": [
       "   subcluster  27_1_LIGHT BULBS  27_2_WIRING DEVICES  \\\n",
       "0         1.0             0.035                0.120   \n",
       "1         2.0             0.011                0.019   \n",
       "2         3.0             0.134                0.011   \n",
       "\n",
       "   27_3_EXT CORD/WORKLIGHT/SURGE  27_4_WIRE  27_5_SAFETY/SECURITY  \\\n",
       "0                          0.009      0.302                 0.016   \n",
       "1                          0.003      0.808                 0.001   \n",
       "2                          0.011      0.011                 0.207   \n",
       "\n",
       "   27_6_CONDUIT/BOXES/FITTINGS  27_7_LANDSCAPE LIGHTING  \\\n",
       "0                        0.142                    0.005   \n",
       "1                        0.080                    0.000   \n",
       "2                        0.004                    0.000   \n",
       "\n",
       "   27_8_CIRCUIT PROTECT. DEVICES  27_9_HOME ELECTRONICS         ...           \\\n",
       "0                          0.151                  0.015         ...            \n",
       "1                          0.030                  0.007         ...            \n",
       "2                          0.001                  0.005         ...            \n",
       "\n",
       "   27_12_TRACK & ACCENT LTG  27_13_RECESSED LIGHTING  \\\n",
       "0                     0.013                    0.063   \n",
       "1                     0.002                    0.017   \n",
       "2                     0.000                    0.001   \n",
       "\n",
       "   27_15_COMMERCIAL & INDUSTRIAL  27_16_INTERIOR LIGHTING  \\\n",
       "0                          0.034                    0.022   \n",
       "1                          0.004                    0.000   \n",
       "2                          0.607                    0.000   \n",
       "\n",
       "   27_18_EXTERIOR DECORATIVE  27_20_CEILING FANS  27_23_PORTABLE HEATING  \\\n",
       "0                      0.004               0.015                   0.000   \n",
       "1                      0.001               0.001                   0.001   \n",
       "2                      0.001               0.001                   0.004   \n",
       "\n",
       "   27_26_EXTERIOR SECURITY  27_31_CONTROL  27_90_MISCELLANEOUS  \n",
       "0                    0.011          0.006                  0.0  \n",
       "1                    0.004          0.001                  0.0  \n",
       "2                    0.000          0.001                  0.0  \n",
       "\n",
       "[3 rows x 21 columns]"
      ]
     },
     "execution_count": 26,
     "metadata": {},
     "output_type": "execute_result"
    }
   ],
   "source": [
    "# calculate the average of seed variable value for each cluster\n",
    "sub_cluster_avg = subcluster.iloc[:,1:len(subcluster.columns)].groupby('subcluster').mean().reset_index()\n",
    "\n",
    "# plot class penetration\n",
    "cmap = get_cmap(len(subcluster.columns)+1)\n",
    "\n",
    "# cumulative spending penetration\n",
    "cumu = np.repeat(0, max(subcluster['subcluster']))\n",
    "\n",
    "for i in range(1,len(subcluster.columns)-1):\n",
    "  d = plt.bar(sub_cluster_avg['subcluster'], sub_cluster_avg.iloc[:,i], bottom=cumu, width=0.8, color=cmap(i), label=sub_cluster_avg.columns.values[i])\n",
    "  cumu = sub_cluster_avg.iloc[:,i] + cumu\n",
    "\n",
    "plt.ylabel('Class Penetration')\n",
    "plt.title('Class Penetration by Subcluster', fontsize=14)\n",
    "\n",
    "plt.gca().set_xlim(left=1)\n",
    "plt.xticks(np.arange(min(sub_cluster_avg['subcluster']), max(sub_cluster_avg['subcluster'])+1, 1.0) )\n",
    "\n",
    "plt.gca().set_ylim([0,1])\n",
    "\n",
    "plt.legend(loc=(1.04,0))\n",
    "\n",
    "plt.show()\n",
    "\n",
    "# show average value\n",
    "sub_cluster_avg.round(3)"
   ]
  },
  {
   "cell_type": "markdown",
   "metadata": {},
   "source": [
    "### 4.4 Export Subcluster"
   ]
  },
  {
   "cell_type": "markdown",
   "metadata": {},
   "source": [
    "Once confirmed, the subclusters will be temporily save into a BQ table. \n",
    "User then can run subclustering for another cluster if needed.\n",
    "All the subclustering results will be summarized together later. "
   ]
  },
  {
   "cell_type": "code",
   "execution_count": 27,
   "metadata": {
    "collapsed": false
   },
   "outputs": [
    {
     "data": {
      "text/html": [
       "\n",
       "          <script src=\"/static/components/requirejs/require.js\"></script>\n",
       "          <script>\n",
       "            requirejs.config({\n",
       "              paths: {\n",
       "                base: '/static/base',\n",
       "              },\n",
       "            });\n",
       "          </script>\n",
       "          "
      ],
      "text/plain": [
       "<IPython.core.display.HTML object>"
      ]
     },
     "metadata": {},
     "output_type": "display_data"
    },
    {
     "data": {
      "text/html": [
       "<div>\n",
       "<table border=\"1\" class=\"dataframe\">\n",
       "  <thead>\n",
       "    <tr style=\"text-align: right;\">\n",
       "      <th></th>\n",
       "      <th>cust_id</th>\n",
       "      <th>subcluster</th>\n",
       "    </tr>\n",
       "  </thead>\n",
       "  <tbody>\n",
       "    <tr>\n",
       "      <th>0</th>\n",
       "      <td>328245</td>\n",
       "      <td>2.0</td>\n",
       "    </tr>\n",
       "    <tr>\n",
       "      <th>1</th>\n",
       "      <td>961561</td>\n",
       "      <td>2.0</td>\n",
       "    </tr>\n",
       "    <tr>\n",
       "      <th>2</th>\n",
       "      <td>1772845</td>\n",
       "      <td>2.0</td>\n",
       "    </tr>\n",
       "    <tr>\n",
       "      <th>3</th>\n",
       "      <td>1777109</td>\n",
       "      <td>2.0</td>\n",
       "    </tr>\n",
       "    <tr>\n",
       "      <th>4</th>\n",
       "      <td>2052132</td>\n",
       "      <td>2.0</td>\n",
       "    </tr>\n",
       "  </tbody>\n",
       "</table>\n",
       "</div>"
      ],
      "text/plain": [
       "   cust_id  subcluster\n",
       "0   328245         2.0\n",
       "1   961561         2.0\n",
       "2  1772845         2.0\n",
       "3  1777109         2.0\n",
       "4  2052132         2.0"
      ]
     },
     "execution_count": 27,
     "metadata": {},
     "output_type": "execute_result"
    }
   ],
   "source": [
    "# create the output dataframe \n",
    "subcluster_output = subcluster[['cust_id', 'subcluster']]\n",
    "\n",
    "#  extract schema and create table for the first time\n",
    "import datalab.bigquery as bq\n",
    "subcluster_temp_table = bq.Table(output_dataset+'.cs_subcluster_temp')\n",
    "\n",
    "if not subcluster_temp_table.exists():\n",
    "  table_schema = bq.Schema.from_dataframe(subcluster_output)\n",
    "  subcluster_temp_table.create(schema = table_schema, overwrite = True)\n",
    "\n",
    "# load data\n",
    "subcluster_temp_table.insert_data(subcluster_output)\n",
    "\n",
    "# check sample data\n",
    "subcluster_output.head(5)"
   ]
  },
  {
   "cell_type": "markdown",
   "metadata": {},
   "source": [
    "### 4.5 Repeat from 4.1\n",
    "User can pick a different cluster and department from 4.1 and repeat the following steps. "
   ]
  },
  {
   "cell_type": "markdown",
   "metadata": {},
   "source": [
    "## Step 5: Export"
   ]
  },
  {
   "cell_type": "markdown",
   "metadata": {},
   "source": [
    "### 5.0 Define Output Table"
   ]
  },
  {
   "cell_type": "code",
   "execution_count": 28,
   "metadata": {
    "collapsed": false
   },
   "outputs": [
    {
     "data": {
      "text/html": [
       "\n",
       "          <script src=\"/static/components/requirejs/require.js\"></script>\n",
       "          <script>\n",
       "            requirejs.config({\n",
       "              paths: {\n",
       "                base: '/static/base',\n",
       "              },\n",
       "            });\n",
       "          </script>\n",
       "          "
      ],
      "text/plain": [
       "<IPython.core.display.HTML object>"
      ]
     },
     "metadata": {},
     "output_type": "display_data"
    },
    {
     "data": {
      "text/plain": [
       "True"
      ]
     },
     "execution_count": 28,
     "metadata": {},
     "output_type": "execute_result"
    }
   ],
   "source": [
    "# define BigQuery table for storing clustering data\n",
    "# drop the existing table\n",
    "cs_cluster_output = bq.Table(output_dataset+'.cs_cluster_output')\n",
    "cs_cluster_output.delete()"
   ]
  },
  {
   "cell_type": "markdown",
   "metadata": {},
   "source": [
    "### 5.1 Build Output Data"
   ]
  },
  {
   "cell_type": "markdown",
   "metadata": {},
   "source": [
    "#### 5.2.1 Pull Filter Variables"
   ]
  },
  {
   "cell_type": "code",
   "execution_count": 29,
   "metadata": {
    "codeCollapsed": false,
    "collapsed": false,
    "hiddenCell": false
   },
   "outputs": [
    {
     "data": {
      "text/html": [
       "\n",
       "          <script src=\"/static/components/requirejs/require.js\"></script>\n",
       "          <script>\n",
       "            requirejs.config({\n",
       "              paths: {\n",
       "                base: '/static/base',\n",
       "              },\n",
       "            });\n",
       "          </script>\n",
       "          "
      ],
      "text/plain": [
       "<IPython.core.display.HTML object>"
      ]
     },
     "metadata": {},
     "output_type": "display_data"
    }
   ],
   "source": [
    "%%bq query -n cs_filter\n",
    "select\n",
    "    a.cust_id,\n",
    "    a.s_trd_typ_desc,\n",
    "    a.ass_chan,\n",
    "    a.pro_xtra_tenure,\n",
    "    coalesce(a.mgmt_tenure,'NEVER MANAGED') as mgmt_tenure,\n",
    "    coalesce(a.dual_mgmt,'N') as dual_mgmt,\n",
    "    coalesce(a.pasa_algnmnt,'NOT PASA-ASSIGNED') as pasa_algnmnt,\n",
    "    a.par_algnmnt,\n",
    "    coalesce(a.pyrmd_tier,'NO SALES') as pyrmd_tier,\n",
    "    coalesce(a.top_mkt_nm,'NO SALES') as top_mkt_nm,\n",
    "    case when a.top_mkt_perc > 100\n",
    "         then 'N/A'\n",
    "         when a.top_mkt_perc > .9 and a.top_mkt_perc <= 100\n",
    "         then 'A: > 90%'\n",
    "         when a.top_mkt_perc > .8 and a.top_mkt_perc <= .9\n",
    "         then 'B: > 80%'\n",
    "         when a.top_mkt_perc > .7 and a.top_mkt_perc <= .8\n",
    "         then 'C: > 70%'\n",
    "         when a.top_mkt_perc > .6 and a.top_mkt_perc <= .7\n",
    "         then 'D: > 60%'\n",
    "         when a.top_mkt_perc > .5 and a.top_mkt_perc <= .6\n",
    "         then 'E: > 50%'\n",
    "         when a.top_mkt_perc <= .5\n",
    "         then 'F: <= 50%'\n",
    "         end as top_mkt_rng,\n",
    "    case when a.vly_perc > 100\n",
    "         then 'N/A'\n",
    "         when a.vly_perc > .15 and a.vly_perc <= 100\n",
    "         then 'A: > 15%'\n",
    "         when a.vly_perc > .05 and a.vly_perc <= .15\n",
    "         then 'B: BETWEEN 5% AND 15%'\n",
    "         when a.vly_perc > -.05 and a.vly_perc <= .05\n",
    "         then 'C: BETWEEN -5% AND 5%'\n",
    "         when a.vly_perc > -.15 and a.vly_perc <= -.05\n",
    "         then 'D: BETWEEN -15% AND -5%'\n",
    "         when a.vly_perc <= -.15\n",
    "         then 'E: <= -15%'\n",
    "         end as vly_rng,\n",
    "    a.vpp_plus_bulk_discount as vpp_plus_bulk_rng,\n",
    "    a.gm_rate as gm_rate_rng\n",
    "  from\n",
    "(\n",
    "select \n",
    "    a.cust_id,\n",
    "    a.s_trd_typ_desc,\n",
    "    a.ass_chan,\n",
    "    t.pro_xtra_tenure,\n",
    "    coalesce(t.mgmt_tenure,'NEVER MANAGED') as mgmt_tenure,\n",
    "    b.dual_mgmt,\n",
    "    c.pasa_algnmnt,\n",
    "    d.par_algnmnt,\n",
    "    case when e.tot_r12_sls_amt > 100000\n",
    "         then 'A: > 100K'\n",
    "         when e.tot_r12_sls_amt > 35000 and e.tot_r12_sls_amt <= 100000\n",
    "         then 'B: > 35K'\n",
    "         when e.tot_r12_sls_amt > 0 and e.tot_r12_sls_amt <= 35000\n",
    "         then 'C: > 0K'\n",
    "         when coalesce(e.tot_r12_sls_amt,0) <= 0\n",
    "         then 'D: <= 0K'\n",
    "         end as pyrmd_tier,\n",
    "    g.top_mkt_nm,\n",
    "    case when h.vpp_plus_bulk_discount > .25\n",
    "         then 'A: > 25%'\n",
    "         when h.vpp_plus_bulk_discount > .15 and h.vpp_plus_bulk_discount <= .25\n",
    "         then 'B: > 15%'\n",
    "         when h.vpp_plus_bulk_discount > .05 and h.vpp_plus_bulk_discount <= .15\n",
    "         then 'C: > 5%'\n",
    "         when h.vpp_plus_bulk_discount >= 0 and h.vpp_plus_bulk_discount <= .05\n",
    "         then 'D: >= 0%'\n",
    "         when coalesce(h.vpp_plus_bulk_discount,0) < 0\n",
    "         then 'E: N/A'\n",
    "         end as vpp_plus_bulk_discount,\n",
    "    case when h.gm_rate > .45\n",
    "         then 'A: > 45%'\n",
    "         when h.gm_rate > .30 and h.gm_rate <= .45\n",
    "         then 'B: > 30%'\n",
    "         when h.gm_rate > .15 and h.gm_rate <= .30\n",
    "         then 'C: > 15%'\n",
    "         when h.gm_rate > 0 and h.gm_rate <= .15\n",
    "         then 'D: > 0%'\n",
    "         when coalesce(h.gm_rate,0) <= 0\n",
    "         then 'E: SALES BELOW COST'\n",
    "         end as gm_rate,\n",
    "    sum(if(coalesce(e.tot_r12_sls_amt,0) = 0,101,(g.top_mkt_sls_amt/e.tot_r12_sls_amt))) as top_mkt_perc,\n",
    "    sum(if(coalesce(f.tot_ly_r12_sls_amt,0) = 0, 101,(e.tot_r12_sls_amt/f.tot_ly_r12_sls_amt)-1)) as vly_perc\n",
    "  from\n",
    "(\n",
    "    (\n",
    "    select\n",
    "        a.cust_id,\n",
    "        a.s_trd_typ_desc,\n",
    "        'PAR' as ass_chan\n",
    "      from\n",
    "        `pr-customer-thd.EDW_REWARDS.PRO_CUST_DTL` a\n",
    "          where 1 = 1\n",
    "          and a.trtry_typ_cd = 1\n",
    "    ) \n",
    "    union all\n",
    "    (\n",
    "    select\n",
    "        a.cust_id,\n",
    "        a.s_trd_typ_desc,\n",
    "        'PASA' as ass_chan\n",
    "      from\n",
    "        `pr-customer-thd.EDW_REWARDS.PRO_CUST_DTL` a,\n",
    "        unnest(pasa_dtl) b\n",
    "          where 1 = 1\n",
    "          and b.assg_pasa_eff_bgn_ts is not null \n",
    "          and b.assg_pasa_eff_end_ts is null \n",
    "          and (\n",
    "            a.trtry_typ_cd in (2,3)\n",
    "            or\n",
    "            a.trtry_typ_cd is null\n",
    "            )\n",
    "    ) \n",
    ") a\n",
    "\n",
    "left join\n",
    "(\n",
    "    select\n",
    "        a.cust_id,\n",
    "        'Y' as dual_mgmt\n",
    "      from\n",
    "        `pr-customer-thd.EDW_REWARDS.PRO_CUST_DTL` a,\n",
    "        unnest(pasa_dtl) b\n",
    "          where 1 = 1\n",
    "          and b.assg_pasa_eff_bgn_ts is not null \n",
    "          and b.assg_pasa_eff_end_ts is null \n",
    "          and a.trtry_typ_cd = 1\n",
    ") b\n",
    "on a.cust_id = b.cust_id\n",
    "left join\n",
    "(\n",
    "    select distinct\n",
    "            a.cust_id,\n",
    "            b.mkt_nm as pasa_algnmnt\n",
    "          from\n",
    "           `pr-customer-thd.DB2_REWARDS.CASSOC_REL` a,\n",
    "           `pr-finance-thd.FINANCE_DATA.STR_HIER` b\n",
    "              where 1 = 1\n",
    "              and a.str_nbr = b.str_nbr\n",
    "              and a.eff_end_ts is null\n",
    ") c\n",
    "on a.cust_id = c.cust_id\n",
    "left join\n",
    "(\n",
    "    select\n",
    "        a.cust_id,\n",
    "        a.s_trd_typ_desc,\n",
    "        if(a.trtry_typ_cd = 1, concat(a.div_nm,', ',a.orgn_nm),'NOT PAR-MANAGED') as par_algnmnt\n",
    "      from\n",
    "        `pr-customer-thd.EDW_REWARDS.PRO_CUST_DTL` a\n",
    "          where 1 = 1\n",
    ") d\n",
    "on a.cust_id = d.cust_id\n",
    "left join\n",
    "(\n",
    "    select\n",
    "        a.cust_id,\n",
    "        count(distinct concat(cast(a.loc_nbr as string),' ',cast(a.sltrn_dt as string),' ',cast(a.pos_rgstr_id as string),' ',cast(a.sltrn_id as string))) as tot_r12_txn_cnt,\n",
    "        sum(coalesce(b.net_sls_amt,0)) as tot_r12_sls_amt\n",
    "      from\n",
    "        `pr-customer-thd.EDW_REWARDS.PRO_CUST_SLS_DTL` a,\n",
    "        unnest(hdr_dtl) b,\n",
    "        unnest(item_dtl) c,\n",
    "        `pr-finance-thd.FINANCE_DATA.CAL_PRD_HIER` d\n",
    "          where 1 = 1\n",
    "          and a.sltrn_dt = d.cal_dt\n",
    "          and a.cust_id <> 0\n",
    "          and a.cust_id is not null\n",
    "          and c.dept_nbr not in (11,13,16,17,78)\n",
    "          and d.fscl_prd_key_val between\n",
    "            (select fscl_prd_key_val from `pr-finance-thd.FINANCE_DATA.CAL_PRD_HIER` where cal_dt =\n",
    "              (select fscl_prd_bgn_dt from `pr-finance-thd.FINANCE_DATA.CAL_PRD_HIER` where cal_dt =\n",
    "                (select (ly_fscl_wk_end_dt) from `pr-finance-thd.FINANCE_DATA.CAL_PRD_HIER` where cal_dt = current_date)))\n",
    "            and\n",
    "            (select fscl_prd_key_val from `pr-finance-thd.FINANCE_DATA.CAL_PRD_HIER` where cal_dt =\n",
    "              (select prev_fprd_end_dt from `pr-finance-thd.FINANCE_DATA.CAL_PRD_HIER` where cal_dt = current_date))\n",
    "      group by 1\n",
    ") e\n",
    "on a.cust_id = e.cust_id\n",
    "left join\n",
    "(\n",
    "    select\n",
    "        a.cust_id,\n",
    "        sum(coalesce(b.net_sls_amt,0)) as tot_ly_r12_sls_amt\n",
    "      from\n",
    "        `pr-customer-thd.EDW_REWARDS.PRO_CUST_SLS_DTL` a,\n",
    "        unnest(hdr_dtl) b,\n",
    "        unnest(item_dtl) c,\n",
    "        `pr-finance-thd.FINANCE_DATA.CAL_PRD_HIER` d\n",
    "          where 1 = 1\n",
    "          and a.sltrn_dt = d.cal_dt\n",
    "          and a.cust_id <> 0\n",
    "          and a.cust_id is not null\n",
    "          and c.dept_nbr not in (11,13,16,17,78)\n",
    "          and d.fscl_prd_key_val between\n",
    "            (select fscl_prd_key_val from `pr-finance-thd.FINANCE_DATA.CAL_PRD_HIER` where cal_dt =\n",
    "              (select fscl_prd_bgn_dt from `pr-finance-thd.FINANCE_DATA.CAL_PRD_HIER` where cal_dt =\n",
    "                (select (ly_fscl_wk_end_dt) from `pr-finance-thd.FINANCE_DATA.CAL_PRD_HIER` where cal_dt = \n",
    "                  (select (ly_fscl_wk_end_dt) from `pr-finance-thd.FINANCE_DATA.CAL_PRD_HIER` where cal_dt = current_date))))\n",
    "            and\n",
    "            (select fscl_prd_key_val from `pr-finance-thd.FINANCE_DATA.CAL_PRD_HIER` where cal_dt =\n",
    "              (select prev_fprd_end_dt from `pr-finance-thd.FINANCE_DATA.CAL_PRD_HIER` where cal_dt =\n",
    "                (select fscl_prd_bgn_dt from `pr-finance-thd.FINANCE_DATA.CAL_PRD_HIER` where cal_dt =\n",
    "                  (select (ly_fscl_wk_end_dt) from `pr-finance-thd.FINANCE_DATA.CAL_PRD_HIER` where cal_dt = current_date))))\n",
    "      group by 1\n",
    ") f\n",
    "on a.cust_id = f.cust_id\n",
    "left join\n",
    "(\n",
    "    select\n",
    "        a.cust_id,\n",
    "        a.top_mkt_nm,\n",
    "        a.top_mkt_sls_amt\n",
    "      from\n",
    "    (\n",
    "    select\n",
    "        a.cust_id,\n",
    "        d.mkt_nm as top_mkt_nm,\n",
    "        rank() over(partition by a.cust_id order by sum(coalesce(b.net_sls_amt,0)) desc) as rank,\n",
    "        sum(coalesce(b.net_sls_amt,0)) as top_mkt_sls_amt\n",
    "      from\n",
    "        `pr-customer-thd.EDW_REWARDS.PRO_CUST_SLS_DTL` a,\n",
    "        unnest(hdr_dtl) b,\n",
    "        unnest(item_dtl) c,\n",
    "        unnest(loc_dtl) d,\n",
    "        `pr-finance-thd.FINANCE_DATA.CAL_PRD_HIER` e\n",
    "          where 1 = 1\n",
    "          and a.sltrn_dt = e.cal_dt\n",
    "          and a.cust_id <> 0\n",
    "          and a.cust_id is not null\n",
    "          and c.dept_nbr not in (11,13,16,17,78)\n",
    "          and e.fscl_prd_key_val between\n",
    "            (select fscl_prd_key_val from `pr-finance-thd.FINANCE_DATA.CAL_PRD_HIER` where cal_dt =\n",
    "              (select fscl_prd_bgn_dt from `pr-finance-thd.FINANCE_DATA.CAL_PRD_HIER` where cal_dt =\n",
    "                (select (ly_fscl_wk_end_dt) from `pr-finance-thd.FINANCE_DATA.CAL_PRD_HIER` where cal_dt = current_date)))\n",
    "            and\n",
    "            (select fscl_prd_key_val from `pr-finance-thd.FINANCE_DATA.CAL_PRD_HIER` where cal_dt =\n",
    "              (select prev_fprd_end_dt from `pr-finance-thd.FINANCE_DATA.CAL_PRD_HIER` where cal_dt = current_date))\n",
    "      group by 1,2\n",
    "    ) a\n",
    "          where 1 = 1\n",
    "          and a.rank = 1\n",
    ") g\n",
    "on a.cust_id = g.cust_id\n",
    "left join\n",
    "(\n",
    "select\n",
    "    a.cust_id,\n",
    "    case when a.tot_sls_amt = 0\n",
    "      then 0\n",
    "      else (a.tot_mrgn_amt)/(a.tot_sls_amt) \n",
    "      end as gm_rate,\n",
    "    case when a.tot_sls_amt = 0\n",
    "      then 0\n",
    "      else (a.unq_comp + a.bulk)/(a.tot_sls_amt + a.bulk + a.unq_comp + 0.000001) \n",
    "      end as vpp_plus_bulk_discount\n",
    "  from\n",
    "(\n",
    "select\n",
    "    a.cust_id,\n",
    "    sum(coalesce(a.tot_mrgn_amt,0)) as tot_mrgn_amt,\n",
    "    sum(coalesce(a.tot_sls_amt,0)) as tot_sls_amt,\n",
    "    sum(coalesce(a.unq_comp,0)) as unq_comp, -- unique competitive (vpp), buyer mkdn\n",
    "    sum(coalesce(a.bulk,0)) as bulk -- bulk, buyer mkdn,\n",
    "  from\n",
    "(\n",
    "select\n",
    "    a.cust_id,\n",
    "    a.txn_id,\n",
    "    a.item_sku_nbr,\n",
    "    sum(coalesce(a.tot_mrgn_amt,0)) as tot_mrgn_amt,\n",
    "    sum(coalesce(a.tot_sls_amt,0)) as tot_sls_amt,\n",
    "    sum(coalesce(b.unq_comp,0)) as unq_comp, -- unique competitive (vpp), buyer mkdn\n",
    "    sum(coalesce(b.bulk,0)) as bulk -- bulk, buyer mkdn\n",
    "  from\n",
    "(\n",
    "select\n",
    "    a.cust_id,\n",
    "    concat(cast(a.loc_nbr as string),' ',cast(a.sltrn_dt as string),' ',cast(a.pos_rgstr_id as string),' ',cast(a.sltrn_id as string)) as txn_id,\n",
    "    b.item_sku_nbr,\n",
    "    sum(coalesce(b.gross_mrgn_amt,0)) as tot_mrgn_amt, \n",
    "    sum(coalesce(b.net_sls_amt,0)) as tot_sls_amt\n",
    "  from\n",
    "    `pr-customer-thd.EDW_REWARDS.PRO_CUST_SLS_DTL` a,\n",
    "    unnest(hdr_dtl) b,\n",
    "    unnest(item_dtl) c,\n",
    "    `pr-finance-thd.FINANCE_DATA.CAL_PRD_HIER` d\n",
    "      where 1 = 1\n",
    "      and a.sltrn_dt = d.cal_dt\n",
    "      and a.cust_id <> 0\n",
    "      and a.cust_id is not null\n",
    "      and c.dept_nbr not in (11,13,16,17,78)\n",
    "      and d.cal_dt between\n",
    "        (select fscl_prd_bgn_dt from `pr-finance-thd.FINANCE_DATA.CAL_PRD_HIER` where cal_dt =\n",
    "          (select (ly_fscl_wk_end_dt) from `pr-finance-thd.FINANCE_DATA.CAL_PRD_HIER` where cal_dt = current_date))\n",
    "        and\n",
    "        (select prev_fprd_end_dt from `pr-finance-thd.FINANCE_DATA.CAL_PRD_HIER` where cal_dt = current_date)\n",
    "  group by 1,2,3\n",
    ") a\n",
    "left join\n",
    "(\n",
    "select\n",
    "    concat(cast(a.loc_nbr as string),' ',cast(a.sltrn_dt as string),' ',cast(a.pos_rgstr_id as string),' ',cast(a.sltrn_id as string)) as txn_id,\n",
    "    b.item_sku_nbr,\n",
    "    sum(coalesce(b.rsn30_ucs_mumd_amt,0)) as unq_comp, -- unique competitive (vpp), buyer mkdn\n",
    "    sum(coalesce(b.rsn49_qty_prc_mumd_amt,0))as bulk -- bulk, buyer mkdn\n",
    "  from\n",
    "    `pr-customer-thd.EDW_REWARDS.PRO_CUST_SLS_DTL` a,\n",
    "    unnest(mumd_dtl) b, \n",
    "    `pr-finance-thd.FINANCE_DATA.CAL_PRD_HIER` c\n",
    "      where 1 = 1\n",
    "      and a.sltrn_dt = c.cal_dt\n",
    "      and c.cal_dt between\n",
    "        (select fscl_prd_bgn_dt from `pr-finance-thd.FINANCE_DATA.CAL_PRD_HIER` where cal_dt =\n",
    "          (select (ly_fscl_wk_end_dt) from `pr-finance-thd.FINANCE_DATA.CAL_PRD_HIER` where cal_dt = current_date))\n",
    "        and\n",
    "        (select prev_fprd_end_dt from `pr-finance-thd.FINANCE_DATA.CAL_PRD_HIER` where cal_dt = current_date)\n",
    "  group by 1,2\n",
    ") b\n",
    "on a.txn_id = b.txn_id\n",
    "and a.item_sku_nbr = b.item_sku_nbr\n",
    "      where 1 = 1 \n",
    "  group by 1,2,3\n",
    ") a\n",
    "  group by 1\n",
    ") a\n",
    "      where 1 = 1\n",
    ") h\n",
    "on a.cust_id = h.cust_id\n",
    "left join\n",
    "(\n",
    "    select\n",
    "        a.cust_id,\n",
    "        a.s_trd_typ_desc,\n",
    "        case when cast(round(date_diff((select (prev_fwk_end_dt) from `pr-finance-thd.FINANCE_DATA.CAL_PRD_HIER` where cal_dt = current_date),\n",
    "               a.proxtr_mbrshp_bgn_dt,day)/7) as int64) > 260\n",
    "               then '+5 YEARS'\n",
    "             when cast(round(date_diff((select (prev_fwk_end_dt) from `pr-finance-thd.FINANCE_DATA.CAL_PRD_HIER` where cal_dt = current_date),\n",
    "               a.proxtr_mbrshp_bgn_dt,day)/7) as int64) between 208 and 260\n",
    "               then '4-5 YEARS'\n",
    "             when cast(round(date_diff((select (prev_fwk_end_dt) from `pr-finance-thd.FINANCE_DATA.CAL_PRD_HIER` where cal_dt = current_date),\n",
    "               a.proxtr_mbrshp_bgn_dt,day)/7) as int64) between 156 and 208\n",
    "               then '3-4 YEARS'\n",
    "             when cast(round(date_diff((select (prev_fwk_end_dt) from `pr-finance-thd.FINANCE_DATA.CAL_PRD_HIER` where cal_dt = current_date),\n",
    "               a.proxtr_mbrshp_bgn_dt,day)/7) as int64) between 104 and 156\n",
    "               then '2-3 YEARS'\n",
    "             when cast(round(date_diff((select (prev_fwk_end_dt) from `pr-finance-thd.FINANCE_DATA.CAL_PRD_HIER` where cal_dt = current_date),\n",
    "               a.proxtr_mbrshp_bgn_dt,day)/7) as int64) between 52 and 104\n",
    "               then '1-2 YEARS'\n",
    "             else '0-1 YEARS' \n",
    "             end as pro_xtra_tenure,\n",
    "        case when a.fxd_wks_mgd_cnt >= 1 and a.fxd_wks_mgd_cnt <=52\n",
    "          then '0-1 YEARS'\n",
    "          when a.fxd_wks_mgd_cnt > 52 and a.fxd_wks_mgd_cnt <= 104\n",
    "          then '1-2 YEARS'\n",
    "          when a.fxd_wks_mgd_cnt > 104 and a.fxd_wks_mgd_cnt <= 156\n",
    "          then '2-3 YEARS'\n",
    "          when a.fxd_wks_mgd_cnt > 156\n",
    "          then '3+ YEARS'\n",
    "          end as mgmt_tenure \n",
    "      from\n",
    "        `pr-customer-thd.EDW_REWARDS.PRO_CUST_DTL` a\n",
    "          where 1 = 1\n",
    ")  t\n",
    "on a.cust_id = t.cust_id\n",
    "where 1 = 1\n",
    "group by 1,2,3,4,5,6,7,8,9,10,11,12\n",
    ") a\n",
    "where 1 = 1 \n",
    "and a.cust_id in (select cust_id from USER_SXM4690.cs_id)\n",
    "order by 1\n"
   ]
  },
  {
   "cell_type": "code",
   "execution_count": 30,
   "metadata": {
    "collapsed": false
   },
   "outputs": [
    {
     "data": {
      "text/html": [
       "\n",
       "          <script src=\"/static/components/requirejs/require.js\"></script>\n",
       "          <script>\n",
       "            requirejs.config({\n",
       "              paths: {\n",
       "                base: '/static/base',\n",
       "              },\n",
       "            });\n",
       "          </script>\n",
       "          "
      ],
      "text/plain": [
       "<IPython.core.display.HTML object>"
      ]
     },
     "metadata": {},
     "output_type": "display_data"
    }
   ],
   "source": [
    "# pull filter data into a pandas dataframe\n",
    "import google.datalab.bigquery as bq\n",
    "cs_filter_df = cs_filter.execute(output_options=bq.QueryOutput.dataframe()).result()"
   ]
  },
  {
   "cell_type": "markdown",
   "metadata": {},
   "source": [
    "#### 5.1.2 Append Cluster / Subcluster Indices"
   ]
  },
  {
   "cell_type": "code",
   "execution_count": 31,
   "metadata": {
    "collapsed": false
   },
   "outputs": [
    {
     "data": {
      "text/html": [
       "\n",
       "          <script src=\"/static/components/requirejs/require.js\"></script>\n",
       "          <script>\n",
       "            requirejs.config({\n",
       "              paths: {\n",
       "                base: '/static/base',\n",
       "              },\n",
       "            });\n",
       "          </script>\n",
       "          "
      ],
      "text/plain": [
       "<IPython.core.display.HTML object>"
      ]
     },
     "metadata": {},
     "output_type": "display_data"
    }
   ],
   "source": [
    "# add cluster index\n",
    "cs_final_output = cs_filter_df.merge(cs_cluster)\n",
    "\n",
    "# pull subcluster data\n",
    "cs_subcluster = subcluster_temp_table.to_dataframe()\n",
    "cs_final_output = cs_final_output.merge(cs_subcluster, how='left')\n",
    "\n",
    "# format dataframe\n",
    "cs_final_output.columns = cs_final_output.columns.str.replace('\\s+', '_')\n",
    "cs_final_output.columns = cs_final_output.columns.str.replace('/', '_')\n",
    "\n",
    "cs_final_output = cs_final_output.astype(object).where(pd.notnull(cs_final_output), None)"
   ]
  },
  {
   "cell_type": "markdown",
   "metadata": {},
   "source": [
    "### 5.2 Export Final Output"
   ]
  },
  {
   "cell_type": "code",
   "execution_count": 32,
   "metadata": {
    "collapsed": false
   },
   "outputs": [
    {
     "data": {
      "text/html": [
       "\n",
       "          <script src=\"/static/components/requirejs/require.js\"></script>\n",
       "          <script>\n",
       "            requirejs.config({\n",
       "              paths: {\n",
       "                base: '/static/base',\n",
       "              },\n",
       "            });\n",
       "          </script>\n",
       "          "
      ],
      "text/plain": [
       "<IPython.core.display.HTML object>"
      ]
     },
     "metadata": {},
     "output_type": "display_data"
    },
    {
     "data": {
      "text/html": [
       "<div>\n",
       "<table border=\"1\" class=\"dataframe\">\n",
       "  <thead>\n",
       "    <tr style=\"text-align: right;\">\n",
       "      <th></th>\n",
       "      <th>cust_id</th>\n",
       "      <th>s_trd_typ_desc</th>\n",
       "      <th>ass_chan</th>\n",
       "      <th>pro_xtra_tenure</th>\n",
       "      <th>mgmt_tenure</th>\n",
       "      <th>dual_mgmt</th>\n",
       "      <th>pasa_algnmnt</th>\n",
       "      <th>par_algnmnt</th>\n",
       "      <th>pyrmd_tier</th>\n",
       "      <th>top_mkt_nm</th>\n",
       "      <th>...</th>\n",
       "      <th>D24_PAINT</th>\n",
       "      <th>D25_HARDWARE</th>\n",
       "      <th>D26_PLUMBING</th>\n",
       "      <th>D27_ELECTRICAL_AND_LIGHTING</th>\n",
       "      <th>D28_SEASONAL_GARDEN</th>\n",
       "      <th>D29_KITCHEN_AND_BATH</th>\n",
       "      <th>D30_MILLWORK</th>\n",
       "      <th>D59_BLINDS_AND_WALLPAPER</th>\n",
       "      <th>cluster</th>\n",
       "      <th>subcluster</th>\n",
       "    </tr>\n",
       "  </thead>\n",
       "  <tbody>\n",
       "    <tr>\n",
       "      <th>0</th>\n",
       "      <td>7600</td>\n",
       "      <td>Commercial Constr.</td>\n",
       "      <td>PASA</td>\n",
       "      <td>4-5 YEARS</td>\n",
       "      <td>NEVER MANAGED</td>\n",
       "      <td>N</td>\n",
       "      <td>BIRMINGHAM</td>\n",
       "      <td>NOT PAR-MANAGED</td>\n",
       "      <td>B: &gt; 35K</td>\n",
       "      <td>ATLANTA</td>\n",
       "      <td>...</td>\n",
       "      <td>0.11</td>\n",
       "      <td>0.134</td>\n",
       "      <td>0.07</td>\n",
       "      <td>0.047</td>\n",
       "      <td>0.046</td>\n",
       "      <td>0.031</td>\n",
       "      <td>0.182</td>\n",
       "      <td>0.008</td>\n",
       "      <td>1</td>\n",
       "      <td>None</td>\n",
       "    </tr>\n",
       "    <tr>\n",
       "      <th>1</th>\n",
       "      <td>8603</td>\n",
       "      <td>Property Manager</td>\n",
       "      <td>PAR</td>\n",
       "      <td>4-5 YEARS</td>\n",
       "      <td>0-1 YEARS</td>\n",
       "      <td>N</td>\n",
       "      <td>NOT PASA-ASSIGNED</td>\n",
       "      <td>SOUTHERN, SOUTHWEST</td>\n",
       "      <td>A: &gt; 100K</td>\n",
       "      <td>ATLANTA</td>\n",
       "      <td>...</td>\n",
       "      <td>0.096</td>\n",
       "      <td>0.067</td>\n",
       "      <td>0.383</td>\n",
       "      <td>0.02</td>\n",
       "      <td>0.045</td>\n",
       "      <td>0.102</td>\n",
       "      <td>0.089</td>\n",
       "      <td>0.004</td>\n",
       "      <td>8</td>\n",
       "      <td>None</td>\n",
       "    </tr>\n",
       "    <tr>\n",
       "      <th>2</th>\n",
       "      <td>54166</td>\n",
       "      <td>Other</td>\n",
       "      <td>PAR</td>\n",
       "      <td>4-5 YEARS</td>\n",
       "      <td>3+ YEARS</td>\n",
       "      <td>N</td>\n",
       "      <td>NOT PASA-ASSIGNED</td>\n",
       "      <td>NORTHERN, NJ METRO</td>\n",
       "      <td>A: &gt; 100K</td>\n",
       "      <td>ATLANTA</td>\n",
       "      <td>...</td>\n",
       "      <td>0.09</td>\n",
       "      <td>0.531</td>\n",
       "      <td>0.02</td>\n",
       "      <td>0.15</td>\n",
       "      <td>0.104</td>\n",
       "      <td>0.015</td>\n",
       "      <td>0.003</td>\n",
       "      <td>0</td>\n",
       "      <td>2</td>\n",
       "      <td>None</td>\n",
       "    </tr>\n",
       "    <tr>\n",
       "      <th>3</th>\n",
       "      <td>123808</td>\n",
       "      <td>Commercial Constr.</td>\n",
       "      <td>PASA</td>\n",
       "      <td>4-5 YEARS</td>\n",
       "      <td>NEVER MANAGED</td>\n",
       "      <td>N</td>\n",
       "      <td>ATLANTA</td>\n",
       "      <td>NOT PAR-MANAGED</td>\n",
       "      <td>C: &gt; 0K</td>\n",
       "      <td>ATLANTA</td>\n",
       "      <td>...</td>\n",
       "      <td>0.043</td>\n",
       "      <td>0.069</td>\n",
       "      <td>0.144</td>\n",
       "      <td>0.096</td>\n",
       "      <td>0.063</td>\n",
       "      <td>0.059</td>\n",
       "      <td>0.302</td>\n",
       "      <td>0.001</td>\n",
       "      <td>1</td>\n",
       "      <td>None</td>\n",
       "    </tr>\n",
       "    <tr>\n",
       "      <th>4</th>\n",
       "      <td>327463</td>\n",
       "      <td>Painter</td>\n",
       "      <td>PASA</td>\n",
       "      <td>4-5 YEARS</td>\n",
       "      <td>NEVER MANAGED</td>\n",
       "      <td>N</td>\n",
       "      <td>ATLANTA</td>\n",
       "      <td>NOT PAR-MANAGED</td>\n",
       "      <td>B: &gt; 35K</td>\n",
       "      <td>ATLANTA</td>\n",
       "      <td>...</td>\n",
       "      <td>0.486</td>\n",
       "      <td>0.06</td>\n",
       "      <td>0.036</td>\n",
       "      <td>0.066</td>\n",
       "      <td>0.117</td>\n",
       "      <td>0.035</td>\n",
       "      <td>0.032</td>\n",
       "      <td>0.006</td>\n",
       "      <td>10</td>\n",
       "      <td>None</td>\n",
       "    </tr>\n",
       "  </tbody>\n",
       "</table>\n",
       "<p>5 rows × 29 columns</p>\n",
       "</div>"
      ],
      "text/plain": [
       "  cust_id      s_trd_typ_desc ass_chan pro_xtra_tenure    mgmt_tenure  \\\n",
       "0    7600  Commercial Constr.     PASA       4-5 YEARS  NEVER MANAGED   \n",
       "1    8603    Property Manager      PAR       4-5 YEARS      0-1 YEARS   \n",
       "2   54166               Other      PAR       4-5 YEARS       3+ YEARS   \n",
       "3  123808  Commercial Constr.     PASA       4-5 YEARS  NEVER MANAGED   \n",
       "4  327463             Painter     PASA       4-5 YEARS  NEVER MANAGED   \n",
       "\n",
       "  dual_mgmt       pasa_algnmnt          par_algnmnt pyrmd_tier top_mkt_nm  \\\n",
       "0         N         BIRMINGHAM      NOT PAR-MANAGED   B: > 35K    ATLANTA   \n",
       "1         N  NOT PASA-ASSIGNED  SOUTHERN, SOUTHWEST  A: > 100K    ATLANTA   \n",
       "2         N  NOT PASA-ASSIGNED   NORTHERN, NJ METRO  A: > 100K    ATLANTA   \n",
       "3         N            ATLANTA      NOT PAR-MANAGED    C: > 0K    ATLANTA   \n",
       "4         N            ATLANTA      NOT PAR-MANAGED   B: > 35K    ATLANTA   \n",
       "\n",
       "     ...     D24_PAINT D25_HARDWARE D26_PLUMBING D27_ELECTRICAL_AND_LIGHTING  \\\n",
       "0    ...          0.11        0.134         0.07                       0.047   \n",
       "1    ...         0.096        0.067        0.383                        0.02   \n",
       "2    ...          0.09        0.531         0.02                        0.15   \n",
       "3    ...         0.043        0.069        0.144                       0.096   \n",
       "4    ...         0.486         0.06        0.036                       0.066   \n",
       "\n",
       "  D28_SEASONAL_GARDEN D29_KITCHEN_AND_BATH D30_MILLWORK  \\\n",
       "0               0.046                0.031        0.182   \n",
       "1               0.045                0.102        0.089   \n",
       "2               0.104                0.015        0.003   \n",
       "3               0.063                0.059        0.302   \n",
       "4               0.117                0.035        0.032   \n",
       "\n",
       "  D59_BLINDS_AND_WALLPAPER cluster subcluster  \n",
       "0                    0.008       1       None  \n",
       "1                    0.004       8       None  \n",
       "2                        0       2       None  \n",
       "3                    0.001       1       None  \n",
       "4                    0.006      10       None  \n",
       "\n",
       "[5 rows x 29 columns]"
      ]
     },
     "execution_count": 32,
     "metadata": {},
     "output_type": "execute_result"
    }
   ],
   "source": [
    "#  extract schema and create table for the first time\n",
    "import datalab.bigquery as bq\n",
    "cs_cluster_output = bq.Table(output_dataset+'.cs_cluster_output')\n",
    "\n",
    "if not cs_cluster_output.exists():\n",
    "  table_schema = bq.Schema.from_dataframe(cs_final_output)\n",
    "  cs_cluster_output.create(schema = table_schema, overwrite = True)\n",
    "\n",
    "# load data\n",
    "cs_cluster_output.insert_data(cs_final_output)\n",
    "\n",
    "# check sample data\n",
    "cs_final_output.head(5)"
   ]
  },
  {
   "cell_type": "code",
   "execution_count": null,
   "metadata": {
    "collapsed": true
   },
   "outputs": [],
   "source": []
  }
 ],
 "metadata": {
  "kernelspec": {
   "display_name": "Python 2",
   "language": "python",
   "name": "python2"
  },
  "language_info": {
   "codemirror_mode": {
    "name": "ipython",
    "version": 2
   },
   "file_extension": ".py",
   "mimetype": "text/x-python",
   "name": "python",
   "nbconvert_exporter": "python",
   "pygments_lexer": "ipython2",
   "version": "2.7.12"
  }
 },
 "nbformat": 4,
 "nbformat_minor": 2
}
